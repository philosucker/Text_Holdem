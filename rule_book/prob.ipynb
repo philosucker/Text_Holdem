{
 "cells": [
  {
   "cell_type": "markdown",
   "metadata": {},
   "source": [
    "### 프리플롭"
   ]
  },
  {
   "cell_type": "code",
   "execution_count": 1,
   "metadata": {},
   "outputs": [
    {
     "name": "stdout",
     "output_type": "stream",
     "text": [
      "5.88235294117647\n",
      "14.479638009049776\n",
      "23.52941176470588\n",
      "3.619909502262444\n"
     ]
    }
   ],
   "source": [
    "from math import comb\n",
    "\n",
    "# Calculate the probability of getting a pocket pair, connectors, suited pre-flop in Texas Hold'em\n",
    "\n",
    "# Total number of ways to pick any two cards from the deck\n",
    "total_two_card_combinations = comb(52, 2)\n",
    "\n",
    "# One_pair\n",
    "# For a specific rank, there are 4 cards, and you need 2 of them to make a pocket pair\n",
    "ways_to_pick_pocket_pair_per_rank = comb(4, 2) * 13\n",
    "\n",
    "# Connectors\n",
    "# There are 12 possible connector pairs (A-K not considered here because it is not a straight connector in Texas Hold'em)\n",
    "# Each pair can be in any of 4 suits, and each card of the pair can also be in any of 4 suits\n",
    "ways_to_pick_connectors = 12 * 4 * 4\n",
    "'''\n",
    "2-3에서 A-K까지, 총 12개의 커넥터 쌍이 가능합니다.\n",
    "각 카드가 4가지 무늬 중 하나를 가질 수 있으므로, 두 카드 각각에 대해 4가지 선택이 가능합니다.\n",
    "따라서 12개의 커넥터 쌍 각각에 대해 무늬 조합이 4 (첫 번째 카드의 무늬) × 4 (두 번째 카드의 무늬) = 16가지 방법이 있습니다. \n",
    "이를 모든 12개의 커넥터 쌍에 적용하면, 12 × 4 × 4 = 192가지 조합이 나옵니다.\n",
    "'''\n",
    "# Suited cards\n",
    "# For each suit, choose 2 out of 13 cards\n",
    "ways_to_pick_suited = 4 * comb(13, 2)\n",
    "'''\n",
    "Suited는 같은 무늬의 두 카드를 의미합니다.\n",
    "한 무늬에는 13장의 카드가 있으므로, 같은 무늬를 가진 두 카드를 선택하는 조합은 13개 중 2개를 선택하는 조합입니다.\n",
    "각 무늬별로 78가지 조합이 가능합니다 \n",
    "4 무늬가 있으므로 총 312가지 조합이 나옵니다\n",
    "'''\n",
    "\n",
    "# Suited connectors\n",
    "# There are 12 possible suited connector pairs\n",
    "# Each pair can be in any of 4 suits\n",
    "ways_to_pick_suited_connectors = 12 * 4\n",
    "'''\n",
    "12개의 쌍 각각에 대해 4가지 무늬 조합이 있으므로, 12 × 4 = 48가지 조합\n",
    "'''\n",
    "# Probabilities\n",
    "probability_pocket_pair = ways_to_pick_pocket_pair_per_rank / total_two_card_combinations\n",
    "probability_connectors = ways_to_pick_connectors / total_two_card_combinations\n",
    "probability_suited = ways_to_pick_suited / total_two_card_combinations\n",
    "probability_suited_connectors = ways_to_pick_suited_connectors / total_two_card_combinations\n",
    "\n",
    "print(probability_pocket_pair * 100)\n",
    "print(probability_connectors * 100)\n",
    "print(probability_suited * 100)\n",
    "print(probability_suited_connectors * 100)\n"
   ]
  },
  {
   "cell_type": "markdown",
   "metadata": {},
   "source": [
    "텍사스 홀덤에서 프리플랍 단계에서  \n",
    "포켓 페어 : 확률은 약 5.88%입니다. 이는 두 장의 카드 중 같은 랭크를 받을 확률을 나타냅니다.  \n",
    "커넥터 (Connectors): 확률은 약 14.48%입니다. 이는 두 장의 카드가 숫자가 연속적일 확률입니다.   \n",
    "Suited (같은 무늬): 확률은 약 23.53%입니다. 이는 두 장의 카드가 같은 무늬일 확률입니다.  \n",
    "suited connector (커넥터이면서 같은 무늬) : 확률은 약 3.62%입니다"
   ]
  },
  {
   "cell_type": "code",
   "execution_count": 3,
   "metadata": {},
   "outputs": [
    {
     "name": "stdout",
     "output_type": "stream",
     "text": [
      "14.328808446455504\n",
      "13.273001508295627\n",
      "12.066365007541478\n",
      "14.479638009049776\n",
      "2.262443438914027\n"
     ]
    }
   ],
   "source": [
    "from math import comb\n",
    "# Calculating probabilities for Broadway Cards, 1-gap Connectors, 2-gap Connectors, Ax Hands, and Low Pairs pre-flop\n",
    "\n",
    "# Total number of ways to pick any two cards from the deck\n",
    "total_two_card_combinations = comb(52, 2)\n",
    "\n",
    "# Broadway Cards (T, J, Q, K, A)\n",
    "# There are 5 broadway ranks, each with 4 suits\n",
    "ways_to_pick_broadway = comb(5 * 4, 2)\n",
    "'''\n",
    "T (10), J, Q, K, A를 포함하는 카드 조합입니다. \n",
    "이들은 특히 고순위 스트레이트를 형성할 수 있는 가능성 때문에 중요하며, 높은 원카드 가치를 지닙니다.\n",
    "'''\n",
    "# 1-gap Connectors (e.g., 5-7, 9-J)\n",
    "# There are 11 possible 1-gap connectors (A not included with 3)\n",
    "ways_to_pick_1_gap = 11 * 4 * 4  # Each can be of any suit\n",
    "\n",
    "# 2-gap Connectors (e.g., 5-8, 9-Q)\n",
    "# There are 10 possible 2-gap connectors (A not included with 4)\n",
    "ways_to_pick_2_gap = 10 * 4 * 4  # Each can be of any suit\n",
    "'''\n",
    "Gap Connectors: 이는 숫자가 한 칸 이상 떨어진 커넥터를 말합니다. \n",
    "예를 들어, 5-7 또는 8-10 같은 카드입니다. 이들은 스트레이트를 만들 가능성은 낮지만 가능성이 여전히 있습니다. \n",
    "1-gap, 2-gap 등으로 구분할 수 있으며, 갭(gap)의 크기에 따라 확률이 달라집니다.\n",
    "'''\n",
    "# Ax Hands (Ace with any other card)\n",
    "# There are 12 non-Ace ranks, each with 4 suits\n",
    "ways_to_pick_ax = 4 * 12 * 4  # Ace with any other card of any suit\n",
    "'''\n",
    "Ace와 다른 어떤 카드의 조합입니다. \n",
    "에이스를 포함하고 있기 때문에 강력한 하이 카드를 가지고 있으며 \n",
    "에이스가 포함된 핸드는 많은 상황에서 유용할 수 있습니다.\n",
    "'''\n",
    "# Low Pairs (2 through 6)\n",
    "# There are 5 low ranks, and for each, there are 4 choose 2 ways to pick pairs\n",
    "ways_to_pick_low_pairs = 5 * comb(4, 2)\n",
    "'''\n",
    "이는 낮은 숫자의 포켓 페어를 의미합니다 (예: 2-2, 3-3). \n",
    "이러한 페어는 큰 페어보다 확률적으로 약할 수 있지만, 세트를 만들어 게임을 뒤집을 수 있는 잠재력을 가지고 있습니다.\n",
    "'''\n",
    "# Probabilities\n",
    "probability_broadway = ways_to_pick_broadway / total_two_card_combinations\n",
    "probability_1_gap = ways_to_pick_1_gap / total_two_card_combinations\n",
    "probability_2_gap = ways_to_pick_2_gap / total_two_card_combinations\n",
    "probability_ax = ways_to_pick_ax / total_two_card_combinations\n",
    "probability_low_pairs = ways_to_pick_low_pairs / total_two_card_combinations\n",
    "\n",
    "print(probability_broadway * 100)\n",
    "print(probability_1_gap * 100)\n",
    "print(probability_2_gap * 100)\n",
    "print(probability_ax * 100)\n",
    "print(probability_low_pairs * 100)\n"
   ]
  },
  {
   "cell_type": "markdown",
   "metadata": {},
   "source": [
    "### 플롭"
   ]
  },
  {
   "cell_type": "code",
   "execution_count": 4,
   "metadata": {},
   "outputs": [
    {
     "name": "stdout",
     "output_type": "stream",
     "text": [
      "0.8418367346938775\n",
      "12.0\n"
     ]
    }
   ],
   "source": [
    "from math import comb\n",
    "\n",
    "# Assuming player starts with two suited cards\n",
    "# There are 11 remaining cards of the same suit in the deck (13 total - 2 in hand)\n",
    "\n",
    "# Number of ways to draw 3 cards of the same suit from the remaining 11 suited cards\n",
    "ways_to_draw_flush = comb(11, 3)\n",
    "\n",
    "# Total ways to draw any 3 cards from the remaining 50 cards (after excluding the 2 in hand)\n",
    "total_ways_to_draw_flop = comb(50, 3)\n",
    "\n",
    "# Probability of drawing a flush on the flop with two suited cards in hand\n",
    "probability_flush_flop = ways_to_draw_flush / total_ways_to_draw_flop\n",
    "'''\n",
    "두 장의 suited 카드를 가지고 시작했을 때, \n",
    "플롭에서 플러시를 만들 확률은 약 0.84%입니다. \n",
    "이는 비교적 낮은 확률이지만, 이런 경우가 발생하면 매우 강력한 핸드가 됩니다.\n",
    "'''\n",
    "\n",
    "# Correct the calculation for the probability of making a set on the flop\n",
    "# Assuming the player starts with a pocket pair and looking to hit a set\n",
    "\n",
    "# Ways to draw one more card of the same rank from the remaining two of that rank\n",
    "ways_to_draw_one_more_of_same_rank = comb(2, 1)\n",
    "\n",
    "# Ways to draw the remaining two cards from the other 49 cards in the deck\n",
    "ways_to_draw_two_other_cards = comb(49, 2)\n",
    "\n",
    "# Total ways to draw any 3 cards from the remaining 50 cards (after excluding the pocket pair)\n",
    "total_ways_to_draw_any_three_cards = comb(50, 3)\n",
    "\n",
    "# Probability of making a set\n",
    "probability_of_set_flop = (ways_to_draw_one_more_of_same_rank * ways_to_draw_two_other_cards) / total_ways_to_draw_any_three_cards\n",
    "'''\n",
    "플롭 단계에서 포켓 페어를 가지고 시작했을 때 세트(트리플)를 만들 확률은 약 12%입니다. \n",
    "이 확률은 플레이어가 포켓 페어를 가진 상태에서 플롭에 세 번째 같은 숫자의 카드를 받을 가능성을 나타냅니다. \n",
    "'''\n",
    "\n",
    "\n",
    "print(probability_flush_flop * 100)\n",
    "print(probability_of_set_flop * 100)\n"
   ]
  },
  {
   "cell_type": "markdown",
   "metadata": {},
   "source": []
  },
  {
   "cell_type": "code",
   "execution_count": 9,
   "metadata": {},
   "outputs": [
    {
     "data": {
      "text/plain": [
       "13.061224489795919"
      ]
     },
     "execution_count": 9,
     "metadata": {},
     "output_type": "execute_result"
    }
   ],
   "source": [
    "# Define all possible connectors including Ace as low\n",
    "connectors = [(v, v+1) for v in range(1, 14)]  # Now includes Ace (1, 2)\n",
    "\n",
    "# Function to calculate straight sequences from a given connector\n",
    "def calculate_straight_sequences(connector):\n",
    "    sequences = []\n",
    "    start, end = connector\n",
    "    # Generate sequences that can form a straight containing both connector cards\n",
    "    # Handle normal sequences and wrap-around for Ace as both high and low\n",
    "    if start == 1:  # When Ace is low and connects with 2\n",
    "        potential_sequences = [\n",
    "            [1, 2, 3, 4, 5],  # A-2-3-4-5\n",
    "        ]\n",
    "    elif start == 14:  # When Ace is high and connects with 2\n",
    "        potential_sequences = [\n",
    "            [10, 11, 12, 13, 14],  # 10-J-Q-K-A\n",
    "        ]\n",
    "    else:\n",
    "        potential_sequences = [\n",
    "            [start - 3, start - 2, start - 1, start, end] if start > 3 else [],\n",
    "            [start - 2, start - 1, start, end, end + 1] if start > 2 else [],\n",
    "            [start - 1, start, end, end + 1, end + 2] if start > 1 else [],\n",
    "            [start, end, end + 1, end + 2, end + 3],\n",
    "        ]\n",
    "    # Filter and validate sequences (all elements must be within the valid range and unique)\n",
    "    for seq in potential_sequences:\n",
    "        if seq and all(1 <= x <= 14 for x in seq) and len(set(seq)) == len(seq):\n",
    "            sequences.append(seq)\n",
    "    return sequences\n",
    "\n",
    "# Calculate possible straight sequences for each connector\n",
    "connector_straight_sequences = {connector: calculate_straight_sequences(connector) for connector in connectors}\n",
    "\n",
    "# Calculate total combinations for each sequence to appear in the flop\n",
    "total_ways_to_draw_straight_sequences = 0\n",
    "for sequences in connector_straight_sequences.values():\n",
    "    for sequence in sequences:\n",
    "        # 4 cards for each rank, we need exactly these 3 cards from the sequence in the flop\n",
    "        total_ways_to_draw_straight_sequences += 4**3  # Each card of the sequence can be any of 4 suits\n",
    "\n",
    "# Total ways to draw any 3 cards from the remaining 50 cards (excluding the 2 held)\n",
    "total_flop_combinations = comb(50, 3)\n",
    "\n",
    "# Probability of making a straight on the flop for any connectors\n",
    "probability_straight_flop_for_all_connectors_including_ace_low = total_ways_to_draw_straight_sequences / total_flop_combinations\n",
    "\n",
    "probability_straight_flop_for_all_connectors_including_ace_low * 100\n",
    "'''\n",
    "1-gap 일때 플롭이 스트레이트일 확률\n",
    "'''\n"
   ]
  },
  {
   "cell_type": "code",
   "execution_count": 8,
   "metadata": {},
   "outputs": [
    {
     "data": {
      "text/plain": [
       "{(1, 2): [[1, 2, 3, 4, 5]],\n",
       " (2, 3): [[1, 2, 3, 4, 5], [2, 3, 4, 5, 6]],\n",
       " (3, 4): [[1, 2, 3, 4, 5], [2, 3, 4, 5, 6], [3, 4, 5, 6, 7]],\n",
       " (4, 5): [[1, 2, 3, 4, 5], [2, 3, 4, 5, 6], [3, 4, 5, 6, 7], [4, 5, 6, 7, 8]],\n",
       " (5, 6): [[2, 3, 4, 5, 6], [3, 4, 5, 6, 7], [4, 5, 6, 7, 8], [5, 6, 7, 8, 9]],\n",
       " (6, 7): [[3, 4, 5, 6, 7], [4, 5, 6, 7, 8], [5, 6, 7, 8, 9], [6, 7, 8, 9, 10]],\n",
       " (7, 8): [[4, 5, 6, 7, 8],\n",
       "  [5, 6, 7, 8, 9],\n",
       "  [6, 7, 8, 9, 10],\n",
       "  [7, 8, 9, 10, 11]],\n",
       " (8, 9): [[5, 6, 7, 8, 9],\n",
       "  [6, 7, 8, 9, 10],\n",
       "  [7, 8, 9, 10, 11],\n",
       "  [8, 9, 10, 11, 12]],\n",
       " (9, 10): [[6, 7, 8, 9, 10],\n",
       "  [7, 8, 9, 10, 11],\n",
       "  [8, 9, 10, 11, 12],\n",
       "  [9, 10, 11, 12, 13]],\n",
       " (10, 11): [[7, 8, 9, 10, 11],\n",
       "  [8, 9, 10, 11, 12],\n",
       "  [9, 10, 11, 12, 13],\n",
       "  [10, 11, 12, 13, 14]],\n",
       " (11, 12): [[8, 9, 10, 11, 12], [9, 10, 11, 12, 13], [10, 11, 12, 13, 14]],\n",
       " (12, 13): [[9, 10, 11, 12, 13], [10, 11, 12, 13, 14]],\n",
       " (13, 14): [[10, 11, 12, 13, 14]]}"
      ]
     },
     "execution_count": 8,
     "metadata": {},
     "output_type": "execute_result"
    }
   ],
   "source": [
    "connector_straight_sequences"
   ]
  },
  {
   "cell_type": "code",
   "execution_count": 6,
   "metadata": {},
   "outputs": [
    {
     "name": "stdout",
     "output_type": "stream",
     "text": [
      "1.306122448979592\n"
     ]
    }
   ],
   "source": [
    "# Calculate the probability of making a straight on the flop when holding connectors, considering all sequences\n",
    "\n",
    "# For connectors 6-7, possible straight sequences that complete the straight:\n",
    "# These are the sequences: (3-4-5), (4-5-8), (5-8-9), (8-9-10)\n",
    "# Each number has 4 suits, thus each sequence has 4^3 combinations\n",
    "\n",
    "# Calculate combinations for each sequence\n",
    "ways_to_draw_3_4_5 = 4**3\n",
    "ways_to_draw_4_5_8 = 4**3\n",
    "ways_to_draw_5_8_9 = 4**3\n",
    "ways_to_draw_8_9_10 = 4**3\n",
    "\n",
    "# Total ways to draw these sequences\n",
    "total_ways_to_draw_straight_sequences = (\n",
    "    ways_to_draw_3_4_5 + \n",
    "    ways_to_draw_4_5_8 + \n",
    "    ways_to_draw_5_8_9 + \n",
    "    ways_to_draw_8_9_10\n",
    ")\n",
    "\n",
    "# Total ways to draw any 3 cards from the remaining 50 cards (excluding the 2 held)\n",
    "total_flop_combinations = comb(50, 3)\n",
    "\n",
    "# Probability of making a straight on the flop\n",
    "probability_straight_flop_all_cases = total_ways_to_draw_straight_sequences / total_flop_combinations\n",
    "\n",
    "print(probability_straight_flop_all_cases * 100)\n"
   ]
  },
  {
   "cell_type": "code",
   "execution_count": null,
   "metadata": {},
   "outputs": [],
   "source": []
  }
 ],
 "metadata": {
  "kernelspec": {
   "display_name": "tf",
   "language": "python",
   "name": "python3"
  },
  "language_info": {
   "codemirror_mode": {
    "name": "ipython",
    "version": 3
   },
   "file_extension": ".py",
   "mimetype": "text/x-python",
   "name": "python",
   "nbconvert_exporter": "python",
   "pygments_lexer": "ipython3",
   "version": "3.11.0"
  }
 },
 "nbformat": 4,
 "nbformat_minor": 2
}
