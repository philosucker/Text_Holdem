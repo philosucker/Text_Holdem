{
 "cells": [
  {
   "cell_type": "code",
   "execution_count": 33,
   "metadata": {},
   "outputs": [],
   "source": []
  },
  {
   "cell_type": "code",
   "execution_count": 53,
   "metadata": {},
   "outputs": [],
   "source": [
    "from collections import defaultdict \n",
    "from collections import namedtuple\n",
    "import random\n",
    "import numpy as np\n",
    "\n",
    "positions = [\"Dealer\", \"Small_Blind\", \"Big_Blind\", \"Four\", \"Five\", \"Six\", \"Seven\", \"Eight\", \"Nine\"]\n",
    "\n",
    "num_players = 6\n",
    "\n",
    "def create_deck():\n",
    "    suits = [\"Spade\", \"Diamond\", \"Heart\", \"Clover\"]\n",
    "    ranks = list(map(str, range(2, 11))) + [\"J\", \"Q\", \"K\", \"A\"]\n",
    "    Card = namedtuple('Card', ['rank', 'suit'])\n",
    "    return [Card(rank, suit) for suit in suits for rank in ranks]\n",
    "\n",
    "def player_hands(num_players):\n",
    "    players_hands = defaultdict(list)\n",
    "    for n in range(num_players):\n",
    "        players_hands[positions[n]]\n",
    "    return players_hands\n",
    "    \n",
    "def bank(default = 10000):\n",
    "    players_bank = defaultdict(int)\n",
    "    for n in range(num_players):\n",
    "        players_bank[positions[n]] = default\n",
    "    return players_bank\n",
    "\n",
    "deck = create_deck()\n",
    "hands = player_hands(num_players)\n",
    "total_pot = 0\n",
    "blind_money = 100\n",
    "\n",
    "def blind_betting():\n",
    "    global total_pot\n",
    "    player_bank[\"Big_Blind\"] -= blind_money\n",
    "    player_bank[\"Small_Blind\"] -= blind_money // 2\n",
    "    total_pot += blind_money + blind_money//2\n",
    "\n",
    "def deal():\n",
    "    blind_betting()\n",
    "    community_cards = []\n",
    "    random.shuffle(deck)\n",
    "    for n in range(num_players):\n",
    "        hands[positions[n]].append(deck.pop())\n",
    "        hands[positions[n]].append(deck.pop())\n",
    "\n",
    "    community_cards.extend([deck.pop() for _ in range(3)])\n",
    "\n",
    "    return hands, community_cards\n",
    "\n",
    "def show_hands():\n",
    "    hands, community_cards = deal()\n",
    "    for player, cards in hands.items():\n",
    "        print(player, cards)\n",
    "    print(community_cards)\n",
    "\n",
    "def random_betting(start, end, step):\n",
    "    # range 함수를 사용하여 시작, 끝, 간격을 지정한 리스트를 생성합니다.\n",
    "    options = range(start, end + 1, step)\n",
    "    # random.choice로 해당 범위에서 하나의 값을 무작위로 선택합니다.\n",
    "    return random.choice(list(options))"
   ]
  },
  {
   "cell_type": "code",
   "execution_count": 146,
   "metadata": {},
   "outputs": [
    {
     "name": "stdout",
     "output_type": "stream",
     "text": [
      "Four says : Call\n",
      "Five says : Call\n",
      "Six says : Call\n",
      "Dealer says : Raise\n",
      "Small_Blind says : Call\n",
      "Big_Blind says : Call\n"
     ]
    }
   ],
   "source": [
    "def preflop_action():\n",
    "    preflop_order = hands.keys()\n",
    "    player_list = list(preflop_order)[3:]+ list(preflop_order)[:3]\n",
    "    betting_order = player_list.copy()\n",
    "\n",
    "    preflop_actions = [\"Raise\", \"Call\", \"Fold\"]\n",
    "    pre_action_weights = [0.2, 0.7, 0.1]\n",
    "    BB_actions = [\"Raise\", \"Fold\", \"Check\"]\n",
    "    BB_actions_weights = [0.2, 0.1, 0.7]\n",
    "    \n",
    "    raise_list = []\n",
    "    for player in betting_order[:-1]:\n",
    "        action = np.random.choice(preflop_actions, p = pre_action_weights)\n",
    "        print(f'{player} says : ' + f'{action}')\n",
    "        if action == \"Fold\":\n",
    "            player_list.remove(player)\n",
    "        if action == \"Raise\":\n",
    "            raise_list.append(player)\n",
    "\n",
    "    if not raise_list:\n",
    "        BB_action = np.random.choice(BB_actions, p = BB_actions_weights)\n",
    "        if BB_action == \"Raise\":\n",
    "            raise_list.append(\"Big_Blind\")\n",
    "            print(f'{\"Big_Blind\"} says : ' + f'{BB_action}')\n",
    "            return player_list, raise_list\n",
    "        \n",
    "        if BB_action == \"Fold\":\n",
    "            player_list.remove(\"Big_Blind\")\n",
    "            print(f'{\"Big_Blind\"} says : ' + f'{BB_action}')\n",
    "            return player_list, raise_list\n",
    "        \n",
    "        if BB_action == \"Check\":\n",
    "            print(f'{\"Big_Blind\"} says : ' + f'{BB_action}')\n",
    "            return player_list, raise_list\n",
    "    else:\n",
    "        action = np.random.choice(preflop_actions, p = pre_action_weights)\n",
    "        print(f'{\"Big_Blind\"} says : ' + f'{action}')\n",
    "        if action == \"Raise\":\n",
    "            raise_list.append(player)\n",
    "        if action == \"Fold\":\n",
    "            player_list.remove(player)\n",
    "        \n",
    "        return player_list, raise_list\n",
    "\n",
    "player_list, raise_list = preflop_action()"
   ]
  },
  {
   "cell_type": "code",
   "execution_count": null,
   "metadata": {},
   "outputs": [],
   "source": []
  },
  {
   "cell_type": "code",
   "execution_count": 139,
   "metadata": {},
   "outputs": [
    {
     "data": {
      "text/plain": [
       "['Five', 'Six', 'Dealer', 'Small_Blind', 'Big_Blind']"
      ]
     },
     "execution_count": 139,
     "metadata": {},
     "output_type": "execute_result"
    }
   ],
   "source": [
    "player_list"
   ]
  },
  {
   "cell_type": "code",
   "execution_count": 140,
   "metadata": {},
   "outputs": [
    {
     "data": {
      "text/plain": [
       "[]"
      ]
     },
     "execution_count": 140,
     "metadata": {},
     "output_type": "execute_result"
    }
   ],
   "source": [
    "raise_list"
   ]
  },
  {
   "cell_type": "code",
   "execution_count": null,
   "metadata": {},
   "outputs": [],
   "source": [
    "while True:\n",
    "종료조건 : 마지막으로 Raise 이후로 Fold를 제외한 player들이 더 이상 raise 없이 모두 call 했을 때, \n",
    "마지막으로 Raise 한 사람이 check를 하면 preflop 종료\n",
    "또는 BB 이후로 아무도 Raise 하지 않았을 때 BB가 check 하면 종료\n",
    "\n"
   ]
  },
  {
   "cell_type": "code",
   "execution_count": null,
   "metadata": {},
   "outputs": [],
   "source": [
    "def raise_rounds():\n",
    "    if len(raise_list) == 1:\n",
    "        actions = [\"Raise\", \"Fold\", \"Check\"]\n",
    "        action_weights = [0.09, 0.01, 0.9]\n",
    "        action = np.random.choice(actions, p = action_weights)\n",
    "        if action == \"Raise\":\n",
    "            print(f'{raise_list[0]} raises \n",
    "        \n",
    "    for p in raise_list:\n",
    "    raised = 0\n",
    "    print('How much do you want raise more?')\n",
    "    raise_amount = random_betting(1,player_bank[player]-blind_money,10)\n",
    "    raise_total = blind_money + raise_amount\n",
    "    print(f'{player} raises {raise_amount}')\n",
    "    total_pot += raise_amount\n",
    "    raised = raise_amount\n",
    "    player_bank[player] -= raise_total"
   ]
  },
  {
   "cell_type": "code",
   "execution_count": 147,
   "metadata": {},
   "outputs": [
    {
     "name": "stdout",
     "output_type": "stream",
     "text": [
      "Initial hands and community cards dealt.\n",
      "Big_Blind chooses to Check\n",
      "Four chooses to Fold\n",
      "Five chooses to Raise\n"
     ]
    },
    {
     "ename": "UnboundLocalError",
     "evalue": "cannot access local variable 'total_pot' where it is not associated with a value",
     "output_type": "error",
     "traceback": [
      "\u001b[0;31m---------------------------------------------------------------------------\u001b[0m",
      "\u001b[0;31mUnboundLocalError\u001b[0m                         Traceback (most recent call last)",
      "Cell \u001b[0;32mIn[147], line 100\u001b[0m\n\u001b[1;32m     98\u001b[0m hands, community_cards \u001b[38;5;241m=\u001b[39m deal()\n\u001b[1;32m     99\u001b[0m \u001b[38;5;28mprint\u001b[39m(\u001b[38;5;124m\"\u001b[39m\u001b[38;5;124mInitial hands and community cards dealt.\u001b[39m\u001b[38;5;124m\"\u001b[39m)\n\u001b[0;32m--> 100\u001b[0m preflop_action()\n\u001b[1;32m    101\u001b[0m \u001b[38;5;28mprint\u001b[39m(\u001b[38;5;124mf\u001b[39m\u001b[38;5;124m\"\u001b[39m\u001b[38;5;124mTotal pot after preflop: \u001b[39m\u001b[38;5;132;01m{\u001b[39;00mtotal_pot\u001b[38;5;132;01m}\u001b[39;00m\u001b[38;5;124m\"\u001b[39m)\n",
      "Cell \u001b[0;32mIn[147], line 87\u001b[0m, in \u001b[0;36mpreflop_action\u001b[0;34m()\u001b[0m\n\u001b[1;32m     85\u001b[0m raise_amount \u001b[38;5;241m=\u001b[39m random_betting(to_call \u001b[38;5;241m*\u001b[39m \u001b[38;5;241m2\u001b[39m, player_bank[player], \u001b[38;5;241m100\u001b[39m)\n\u001b[1;32m     86\u001b[0m player_bank[player] \u001b[38;5;241m-\u001b[39m\u001b[38;5;241m=\u001b[39m raise_amount\n\u001b[0;32m---> 87\u001b[0m total_pot \u001b[38;5;241m+\u001b[39m\u001b[38;5;241m=\u001b[39m raise_amount\n\u001b[1;32m     88\u001b[0m to_call \u001b[38;5;241m=\u001b[39m raise_amount\n\u001b[1;32m     89\u001b[0m last_raise \u001b[38;5;241m=\u001b[39m player\n",
      "\u001b[0;31mUnboundLocalError\u001b[0m: cannot access local variable 'total_pot' where it is not associated with a value"
     ]
    }
   ],
   "source": [
    "from collections import defaultdict, namedtuple\n",
    "import random\n",
    "import numpy as np\n",
    "\n",
    "# 포지션과 카드, 덱 설정\n",
    "positions = [\"Dealer\", \"Small_Blind\", \"Big_Blind\", \"Four\", \"Five\", \"Six\", \"Seven\", \"Eight\", \"Nine\"]\n",
    "num_players = 6\n",
    "\n",
    "Card = namedtuple('Card', ['rank', 'suit'])\n",
    "\n",
    "def create_deck():\n",
    "    suits = [\"Spade\", \"Diamond\", \"Heart\", \"Clover\"]\n",
    "    ranks = list(map(str, range(2, 11))) + [\"J\", \"Q\", \"K\", \"A\"]\n",
    "    return [Card(rank, suit) for suit in suits for rank in ranks]\n",
    "\n",
    "# 플레이어의 초기 손과 은행 상태 설정\n",
    "def player_hands(num_players):\n",
    "    players_hands = defaultdict(list)\n",
    "    for n in range(num_players):\n",
    "        players_hands[positions[n]]\n",
    "    return players_hands\n",
    "\n",
    "def bank(default=10000):\n",
    "    players_bank = defaultdict(int)\n",
    "    for n in range(num_players):\n",
    "        players_bank[positions[n]] = default\n",
    "    return players_bank\n",
    "\n",
    "# 초기 변수 설정\n",
    "deck = create_deck()\n",
    "hands = player_hands(num_players)\n",
    "player_bank = bank()\n",
    "total_pot = 0\n",
    "blind_money = 100\n",
    "\n",
    "# Blind 베팅 함수\n",
    "def blind_betting():\n",
    "    global total_pot\n",
    "    player_bank[\"Big_Blind\"] -= blind_money\n",
    "    player_bank[\"Small_Blind\"] -= blind_money // 2\n",
    "    total_pot += blind_money + blind_money // 2\n",
    "\n",
    "# 카드 배분 및 커뮤니티 카드 처리\n",
    "def deal():\n",
    "    blind_betting()\n",
    "    community_cards = []\n",
    "    random.shuffle(deck)\n",
    "    for n in range(num_players):\n",
    "        hands[positions[n]].extend([deck.pop(), deck.pop()])\n",
    "\n",
    "    community_cards.extend([deck.pop() for _ in range(3)])\n",
    "\n",
    "    return hands, community_cards\n",
    "\n",
    "# Preflop 베팅 라운드 로직\n",
    "def preflop_action():\n",
    "    betting_order = positions[2:] + positions[:2]  # Big Blind 다음부터 시작\n",
    "    last_raise = None\n",
    "    to_call = blind_money  # 현재 콜해야 하는 금액은 Big Blind\n",
    "\n",
    "    action_taken = False\n",
    "    actions = [\"Raise\", \"Call\", \"Fold\", \"Check\"]\n",
    "\n",
    "    while True:\n",
    "        for player in betting_order:\n",
    "            if player_bank[player] <= 0 or (last_raise == player and action_taken):\n",
    "                break  # 해당 플레이어가 모든 칩을 베팅했거나 더 이상 행동할 수 없는 상황\n",
    "\n",
    "            if player == \"Big_Blind\" and not action_taken:  # BB 체크 조건\n",
    "                action = np.random.choice([\"Check\", \"Raise\"], p=[0.7, 0.3])\n",
    "            else:\n",
    "                if to_call > 0:\n",
    "                    action = np.random.choice([\"Call\", \"Raise\", \"Fold\"], p=[0.4, 0.3, 0.3])\n",
    "                else:\n",
    "                    action = \"Check\"\n",
    "\n",
    "            print(f\"{player} chooses to {action}\")\n",
    "\n",
    "            if action == \"Fold\":\n",
    "                continue\n",
    "            elif action == \"Call\":\n",
    "                player_bank[player] -= to_call\n",
    "                total_pot += to_call\n",
    "            elif action == \"Raise\":\n",
    "                raise_amount = random_betting(to_call * 2, player_bank[player], 100)\n",
    "                player_bank[player] -= raise_amount\n",
    "                total_pot += raise_amount\n",
    "                to_call = raise_amount\n",
    "                last_raise = player\n",
    "                action_taken = True\n",
    "            elif action == \"Check\":\n",
    "                continue\n",
    "\n",
    "            if player == \"Big_Blind\" and not last_raise:  # BB 체크 후 종료\n",
    "                return\n",
    "\n",
    "# 게임 시작\n",
    "hands, community_cards = deal()\n",
    "print(\"Initial hands and community cards dealt.\")\n",
    "preflop_action()\n",
    "print(f\"Total pot after preflop: {total_pot}\")\n"
   ]
  },
  {
   "cell_type": "code",
   "execution_count": null,
   "metadata": {},
   "outputs": [],
   "source": []
  }
 ],
 "metadata": {
  "kernelspec": {
   "display_name": "tf",
   "language": "python",
   "name": "python3"
  },
  "language_info": {
   "codemirror_mode": {
    "name": "ipython",
    "version": 3
   },
   "file_extension": ".py",
   "mimetype": "text/x-python",
   "name": "python",
   "nbconvert_exporter": "python",
   "pygments_lexer": "ipython3",
   "version": "3.11.0"
  }
 },
 "nbformat": 4,
 "nbformat_minor": 2
}
