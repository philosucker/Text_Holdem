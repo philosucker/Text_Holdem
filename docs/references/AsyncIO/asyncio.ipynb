{
 "cells": [
  {
   "cell_type": "markdown",
   "metadata": {},
   "source": [
    "## 스레딩으로 뭘 할 수 있지?\n",
    "\n",
    "**스레딩은 OS에서 제공되는 기능**\n",
    "\n",
    "**개발자가 OS에게 프로그램의 일부를 parallel 로 실행하겠다고 알리는 기능이다.**  \n",
    "    이때 OS의 스케줄러가 해당 프로그램의 일부에 CPU 자원을 얼마나 할당할지 결정한다\n",
    "\n",
    "    멀티스레드 프로그램은 멀티코어 CPU에서 각 스레드를 병렬로 실행할 수 있다. \n",
    "    운영체제는 스레드를 여러 CPU 코어에 할당하여 동시에 실행시킴으로써, 전체 작업 처리 속도를 향상시킬 수 있다.\n",
    "        예를 들어 스레딩을 하면 \n",
    "        하나의 프로세스 내에서 여러 스레드가 실행될 때, 이들 스레드는 동일한 주소 공간을 공유합니다. \n",
    "            이는 동일한 변수, 객체, 데이터 구조에 접근할 수 있음을 의미합니다.\n",
    "            별도의 메모리 할당 없이 데이터를 공유할 수 있으므로, \n",
    "            스레드 간의 통신이 메모리 복사 없이 효율적으로 이루어질 수 있습니다.\n",
    "            스레드 간에 데이터를 주고받을 때, 공유 메모리를 통해 직접 접근할 수 있게 되면\n",
    "            다른 통신 방법(예: 메시지 큐, 소켓 통신 등)보다 빠르고 자원 소모가 적습니다.\n",
    "        다만, 여러 스레드가 동시에 같은 데이터에 접근할 때 발생할 수 있는 동기화 문제를 해결하기 위해 \n",
    "        락, 세마포어 등의 동기화 기법을 사용해야 한다.\n",
    "\n",
    "    구체적인 스레딩 사용 예로\n",
    "        CPU를 써야하는 여러 계산 위주 작업들 간에 메모리를 공유할 수 있는 다중 CPU 프로그램이 필요한 경우, \n",
    "        예를 들어 numpy는 모든 메모리를 공유하면서 여러 CPU를 사용해 행렬 연산을 가속한다\n",
    "    \n",
    "    스레드는 직접 관리해야 하는 저수준 도구이기 때문에\n",
    "    스레딩은 대규모 병행 작업에 쓰일 때 오히려 비효율적일 수 있다.\n",
    "    코드가 난해해지고, 컨텍스트 스위치가 많아진다.\n",
    "\n",
    "\n",
    "## ayncio로 뭘 할수 있지?\n",
    "\n",
    "단일 프로그램에서 동시에 여러 개의 HTTP 요청을 병행(concurrent) 실행할 수 있다.   \n",
    "(requests.get()을 호출해 서버의 응답을 기다리는 작업이 완료되는 동안 다른 작업을 수행할 수 있도록 하는 등의 일)  \n",
    "\n",
    "    CPU는 작업을 처리한 후 네트워크 Input/Output 의 완료를 기다린다.\n",
    "    CPU는 네트워크 작업보다 훨씬 더 빠르므로, \n",
    "    네트워킹을 포함하는 프로그램을 실행해보면 CPU 동작 시간 중 많은 부분을 대기시간이 차지한다.\n",
    "\n",
    "    I/O 위주 작업에 스레드 기반 병행처리보다 \n",
    "    비동기 기반 병행처리를 적용할 때 이점이 있다\n",
    "\n",
    "        1. 스레드 기반 애플리케이션에서 발생할 수 있는 특정 범주의 경합조건 등의 위험 요소가 발생하지 않는다\n",
    "        (분산 마이크로 서비스 구조에서 공유 자원에 대한 프로세스 내부의 경합 같은 경합조건은 방지하지 못한다)\n",
    "\n",
    "        2. asyncio를 통해 동시에 수천개의 소켓 연결을 간단히 처리할 수 있다\n",
    "\n",
    "\n",
    "    네트워크 프로그래밍은 스레딩을 필요로 하는 영역이 아니다.\n",
    "        네트워크 프로그래밍은 기다림이 많은 작업들로 구성돼 있다. \n",
    "        따라서 여러 CPU에 작업들을 효율적으로 분배하기 위한 운영체제와의 연계작업이 필요 없다. \n",
    "        또한 공유 메모리 접근 시 발생할 수 있는 경합조건과 같은 리스크를 불러오는 선점형 멀티태스킹도 필요 없다.\n",
    "\n",
    "    속도는 asyncio로 얻을 수 있는 장점이 아니다.\n",
    "        일반적으로 스레딩이 비동기 기반 병행처리보다 빠르다.\n",
    "        속도가 중요하다면 Cython을 써보라.\n",
    "        Cython을 사용하면 GIL 제약 (모든 스레드를 하나의 CPU에서만 처리하도록 강제)을 피할 수 있다.\n",
    "\n",
    "    asyncio는 단일 스레드이기 때문에 GIL의 영향을 받지 않는다.\n",
    "        대신 여러 CPU 코어의 장점도 얻을 수 없다."
   ]
  },
  {
   "cell_type": "markdown",
   "metadata": {},
   "source": [
    "## Chapter 3"
   ]
  },
  {
   "cell_type": "markdown",
   "metadata": {},
   "source": [
    "ayncio 공식문서는 end user 개발자보다 framework/library 개발자에게 더 유용한 문서다.  \n",
    "  \n",
    "    ayncio 공식문서는 end user 개발자용 기능인지 framework/library 개발자용 기능인지  \n",
    "    구분하지 않고 모든 API를 나열해서 보기가 힘들다.  \n",
    "\n",
    "전체 asyncio API 중 end user 개발자에게 유용한 것들은 다음과 같다  \n",
    "\n",
    "    asyncio 이벤트 루프 시작하기\n",
    "    async/await 함수 호출하기\n",
    "    루프에서 실행할 태스크 작성하기\n",
    "    모든 병행 태스크 종료 후 루프 종료하기"
   ]
  },
  {
   "cell_type": "markdown",
   "metadata": {},
   "source": [
    "\n",
    "```python\n",
    "import asyncio\n",
    "import time\n",
    "\n",
    "async def f():\n",
    "    print(f'{time.ctime()} hello')\n",
    "    await asyncio.sleep(3)\n",
    "    print(f'{time.ctime()} good bye')\n",
    "    \n",
    "\n",
    "'''\n",
    "대부분의 asyncio 기반 코드는 run() 함수를 사용한다\n",
    "이 함수의 역할을 이해해야 큰 애플리케이션을 잘 설계할 수 있다\n",
    "'''\n",
    "# asyncio.run(f()) \n",
    "\n",
    "def blocking():\n",
    "    time.sleep(5)\n",
    "    print(f'{time.ctime()} hello from a thread')\n",
    "\n",
    "'''\n",
    "아래 코드는 run() 함수 내부의 거의 모든 동작에 대한 예제다.\n",
    "'''\n",
    "\n",
    "loop = asyncio.get_event_loop() # 현재 이벤트 루프를 가져옴\n",
    "    '''\n",
    "    이벤트 루프(Event Loop)는 비동기 코드 실행을 관리하는 핵심 구성 요소다. \n",
    "        이벤트 루프는 다음과 같은 역할을 한다\n",
    "            1. 작업 예약: 비동기 함수를 예약하고 실행 순서를 관리\n",
    "            2. I/O 처리: 비동기적으로 입출력 작업을 처리\n",
    "            3. 콜백 실행: 특정 이벤트가 발생했을 때 콜백 함수를 실행\n",
    "\n",
    "    asyncio.get_event_loop()의 역할\n",
    "\n",
    "    새로운 이벤트 루프 생성:\n",
    "    현재 스레드에 이벤트 루프가 없으면 새로운 이벤트 루프를 생성하고 그것을 반환\n",
    "    주로 이벤트 루프를 처음 설정할 때 사용\n",
    "\n",
    "    asyncio.get_event_loop() 는 코루틴을 실행하기 위해 필요한 루프 인스턴스를 얻는 문법이다.\n",
    "        코루틴은 비동기 함수보다 더 넓은 개념. \n",
    "            코루틴 : 실행 중간에 일시 중단하고 나중에 같은 상태에서 다시시작할 수 있는 함수\n",
    "\n",
    "            비동기 함수는 코루틴의 일종.\n",
    "            비동기 함수의 사용목적은 주로 비동기 작업을 수행하는데 있다. \n",
    "                비동기작업(네트워크 요청, 파일 I/O)\n",
    "\n",
    "            파이썬에서는 async 키워드를 사용해 비동기함수를 정의\n",
    "\n",
    "            async 키워드로 정의된 비동기함수는\n",
    "            await 키워드를 사용해 다른 비동기 함수나 비동기 작업을 호출하고\n",
    "            그 작업이 완료되기를 기다린다\n",
    "\n",
    "    asyncio.get_event_loop()를 동일 스레드에서 호출하면 \n",
    "    코드의 어느 부분에서 호출하든 매번 똑같은 루프 인스턴스를 반환한다. \n",
    "\n",
    "    그런데 async def 함수 내에서 호출하는 경우에는 asyncio.get_running_loop()를 호출해야 한다. \n",
    "    asyncio.get_running_loop()를 호출하면 현재 실행 중인 이벤트 루프를 반환한다.\n",
    "    실행 중인 이벤트 루프가 없으면 RuntimeError를 발생 시킨다\n",
    "    '''\n",
    "\n",
    "task = loop.create_task(f()) # : 비동기 함수(코루틴) f를 이벤트 루프에서 실행하도록 예약하고 task 객체로 반환. \n",
    "# create_task()에 전달되는 함수는 반드시 async def로 정의된 비동기 함수여야 한다.\n",
    "\n",
    "loop.run_in_executor(None, blocking) # 기본 스레드 풀에서 blocking 함수가 실행되도록 예약. \n",
    "# run_in_executor는 이벤트 루프가 시작될 때(run_until_complete가 실행되어야) 실행된다. \n",
    "# run_in_executor() 에 들어가는 함수는 일반적으로\n",
    "# 라이브러리에서 가져다 쓰는 \"동기함수\"이거나, CPU 바운드 작업을 위주로 해야하는 \"동기함수\" 또는 블로킹 I/O 작업을 하는 \"동기함수\"다. \n",
    "# create_task()에 들어가는 함수는 주로 I/O 바운드의 비동기함수다. \n",
    "# 즉 run_in_executor를 쓰는 이유는 \n",
    "# 동기함수를 별도의 스레드나 프로세스에서 실행하여, ayncio가 돌아가는 메인 이벤트 루프가 블로킹되지 않도록 하기위해 쓴다.\n",
    "# 즉 run_in_executor를 쓰게 됨으로써 멀티스레딩 또는 멀티프로세싱을 하게 되는 것이다.\n",
    "'''\n",
    "멀티태스킹이 잘 되기 위해서는 비동기와 동기 함수를 적절히 어우러지게 사용해야 한다.\n",
    "이는 await 키워드를 사용해 이벤트 루프에게 제어권을 넘기는 식으로 이뤄진다. \n",
    "await 키워드는 현재 작업을 일시 중단하고, 이벤트 루프가 다른 작업을 실행할 수 있도록 한다. \n",
    "\n",
    "동기함수는 호출이 완료될때까지 제어권을 다른 작업에 넘기지 않는다. \n",
    "동기함수는 비동기 함수내에서 호출될 수 있고 이는 비동기 작업을 블로킹할 수 있다. \n",
    "비동기 함수 내에 동기함수를 호출해야 할 경우, \n",
    "동기함수를 run_in_executor에 넣고 await 키워드를 사용하면, \n",
    "이벤트 루프가 블로킹되지 않으면서 동기함수를 실행할 수 있다.\n",
    "\n",
    "따라서 run_in_executor()는 메인 이벤트 루프를 블로킹하지 않는다. \n",
    "단지 작업을 실행할 스레드 풀이나 프로세스 풀에 작업을 스케줄링한다.\n",
    "run_in_executor를 호출하면 Future개체를 반환받는다. \n",
    "익스큐터에 할당된 작업은 asyncio 이벤트 루프가 실행 중일 때 시작된다.\n",
    "run_until_complete()를 호출하면 이벤트 루프가 실행되어 할당된 작업들이 시작될 수 있다.\n",
    "'''\n",
    "\n",
    "# 그렇다면 동기함수를 비동기함수로 바꿔 create_task에 넣으면 안되나?\n",
    "# 동기함수를 비동기 함수로 변환할 수 없는 경우가 있다. \n",
    "# 기존 라이브러리에서 제공되는 함수를 그대로 써야 하거나, CPU 집약적인 작업을 해야 하는 경우가 그렇다.\n",
    "# 전자는 라이브러리 함수를 가져다 쓰는 경우이므로 비동기함수로 바꿀 수 없고 후자는 비동기 함수로 바꾸는 게 의미가 없다. \n",
    "# 물론 동기적으로 설계된 라이브러리 대신 비동기적으로 설계된 라이브러리를 쓸수도 있다.\n",
    "# 그러나 requests 대신 쓸 수 있는 aiohttp 라이브러리처럼 비동기 API를 제공하는 경우는 흔치 않다.\n",
    "# with open 함수처럼 많은 파일 시스템 API는 동기적으로 동작한다.\n",
    "# 일부 비동기 파일 시스템 API가 있지만, 모든 파일 시스템이나 운영 체제가 이를 지원하는 것은 아니다.\n",
    "# sqlite3 처럼 DB에 쿼리를 날리는 함수 같은 블로킹 I/O작업을 하는 함수들도 비동기 함수로 변환하기 어렵다.\n",
    "# 블로킹 호출의 본질적인 특성, 성능 안정성 문제, 복잡한 상호작용 때문이다. \n",
    "# 기존의 동기적 코드를 비동기 코드로 변환하는 것은 성능과 안정성 문제를 야기할 수 있다. \n",
    "# 동기 코드가 잘 작동하고 있는 경우, 이를 비동기 코드로 변환하는 것은 코드 복잡성을 증가시키고, 예기치 않은 버그를 초래할 수 있다\n",
    "# 위와 같은 이유로 동기 함수는 run_in_executor를 사용하여 멀티스레딩이나 멀티프로세싱으로 처리하고, \n",
    "# 비동기 함수로 변환할 수 있는 작업은 create_task를 사용하여 이벤트 루프에서 비동기적으로 실행하는 것이다.\n",
    "\n",
    "\n",
    "loop.run_until_complete(task) # 호출하면 현재 메인 스레드를 블로킹하고 메인스레드가 이벤트 루프를 실행하게 한다\n",
    "# 비동기 task가 완료될 때까지 이벤트 루프 실행한다.  \n",
    "# 이벤트 루프는 예약된 모든 작업을 실행한다. 비동기 함수 f가 비동기적으로 실행됨. 동시에 스레드 풀에서 blocking 함수도 실행됨. \n",
    "\n",
    "'''\n",
    "이하 코드들은 비동기 작업을 깔끔하게 끝내기 위해 사용된다. 비동기 작업을 정리하고, 이벤트 루프를 안전하게 종료하기 위한 목적을 가지고 있습니다.\n",
    "'''\n",
    "pending = asyncio.all_tasks(loop=loop) # 현재 이벤트 루프에서 실행 중이거나 대기 중인 모든 작업(task)을 가져옴. \n",
    "# pending 변수 내의 태스크 목록에는 run_in_executor 호출시 매개변수로 전달했던 blocking 에 대한 호출은 포함하지 않는다. \n",
    "# all_tasks()는 Task만 반환하고 Future는 반환하지 않는다 \n",
    "\n",
    "for task in pending:\n",
    "    task.cancel() # 각 작업을 취소.\n",
    "\n",
    "group = asyncio.gather(*pending, return_exceptions = True) # 모든 남은 작업을 하나로 모아서 처리, 예외 발생 시 반환.\n",
    "\n",
    "loop.run_until_complete(group) # 그룹 작업이 완료될 때까지 이벤트 루프를 실행.\n",
    "\n",
    "loop.close() # 이 함수는 루프의 모든 대기열을 비우고 익스큐터를 종료시킨다. \n",
    "# 이 함수는 정지된 루프에 대해 호출해야한다. \n",
    "# 정지된 루프는 다시 실행될 수 있으나 닫힌 루프는 완전히 끝난 것이다. \n",
    "# 정확한 종료처리를 위해서는 더 많은 보강이 필요하다.\n",
    "```"
   ]
  },
  {
   "cell_type": "markdown",
   "metadata": {},
   "source": [
    "## 3.2 asyncio의 탑\n",
    "\n",
    "네트워크 애플리케이션 개발 중 asyncio 라이브러리를 사용하는 경우  \n",
    "end user 개발자에게 중요한 계층(API)은 다음과 같다.  \n",
    "\n",
    "#### 계층1 async def, async with, async for, await\n",
    "    async def 함수를 작성하는 방법  \n",
    "    다른 코루틴을 호출하고 실행하기 위해 await를 사용하는 방법  \n",
    "\n",
    "#### 계층2 asyncio.run()\n",
    "    이벤트 루프를 시작하고, 종료하고, 상호작용하는 방법  \n",
    "\n",
    "#### 계층5 run_in_executor()\n",
    "    익스큐터를 활용하는 방법  \n",
    "    그런데 대부분의 서드파티 라이브러리는 ayncio와 호환되지 않는다  \n",
    "    예를 들어 SQLAlchemy의 ORM 라이브러리는 asyncio와 호환되는 기능을 지원하지 않는다  \n",
    "\n",
    "#### 계층6 Asyncio.Queue\n",
    "    한 개 이상의, 긴 시간동안 실행하는 코루틴에 데이터를 전달할 때는  \n",
    "    asyncio.Queue 를 쓰는게 가장 적합한 방법이다.  \n",
    "    스레드에 데이터를 배분할 때 queue.Queue를 쓰는 것과 동일하다  \n",
    "\n",
    "#### 계층9 StreamReader, StreamWriter\n",
    "    Streams API는 소켓 통신을 처리하는 가장 간단한 방법이다.  \n",
    "    asyncio와 호환되는 소켓 통신용 서드파티 라이브러리(aiohttp)를 사용한다면 Streams API를 쓸 필요는 없다.  \n",
    "\n",
    "\n",
    "이제 아래 계층 부터 차례차례 사용법을 알아본다"
   ]
  },
  {
   "cell_type": "markdown",
   "metadata": {},
   "source": [
    "## 3.3 코루틴"
   ]
  },
  {
   "cell_type": "markdown",
   "metadata": {},
   "source": [
    "### 코루틴은 완료되지 않은 채 일시정지했던 함수를 재개할 수 있는 기능을 가진 객체다\n",
    "\n",
    "3.4에서 aysncio가 추가되고\n",
    "3.5에서 async와 await가 도입되기 전  \n",
    "asyncio는 제너레이터로 코루틴을 구현했다.  \n",
    "(@asyncio.coroutine 로 처리된 제너레이터 함수 내에 yield from 구문이 들어있는 형식)  \n",
    "  \n",
    "async def를 사용한 코루틴은 네이티브 코루틴이라고 불린다  \n",
    "\n",
    "async def 함수와 이 함수가 반환하는 코루틴은 제너레이터와 흡사한 방식으로 동작한다  \n",
    "실제로 코루틴이 반환할 때 StopIteration예외가 발생한다\n"
   ]
  },
  {
   "cell_type": "markdown",
   "metadata": {},
   "source": [
    "용어 정리  \n",
    "**비동기 함수 (Asynchronous Function):**   \n",
    "async def로 정의된 함수. 호출되면 실행되지 않고 코루틴 객체를 반환합니다.  \n",
    "  \n",
    "**코루틴 (Coroutine):**  \n",
    "비동기 함수를 호출하여 반환된 객체.   \n",
    "이 객체는 await 키워드로 실행을 중단하고, 재개할 수 있습니다.  "
   ]
  },
  {
   "cell_type": "code",
   "execution_count": 1,
   "metadata": {},
   "outputs": [
    {
     "name": "stdout",
     "output_type": "stream",
     "text": [
      "<class 'function'>\n",
      "<class 'generator'>\n",
      "123\n",
      "<class 'function'>\n",
      "True\n",
      "<class 'coroutine'>\n"
     ]
    }
   ],
   "source": [
    "import inspect\n",
    "\n",
    "def g():\n",
    "    yield 123\n",
    "\n",
    "gen = g()\n",
    "gen\n",
    "\n",
    "print(type(g))   # g는 제너레이터가 아니다. 그냥 함수다.\n",
    "print(type(gen)) # 제러네이터는 g를 호출하여 값을 반환받아야 한다.\n",
    "print(next(gen))\n",
    "\n",
    "async def f():\n",
    "    return 123\n",
    "\n",
    "print(type(f))   # 코루틴도 동일하다. f는 코루틴이 아니라 그냥 함수다. \n",
    "print(inspect.iscoroutinefunction(f)) # 정확히 말하면 코루틴 함수다. (비동기 함수)\n",
    "\n",
    "coro = f() # async def 함수를 호출하여 코루틴 객체를 받아와야 한다.\n",
    "print(type(coro)) # 코루틴 함수를 호출하여 반환받은 값이 코루틴이다"
   ]
  },
  {
   "cell_type": "markdown",
   "metadata": {},
   "source": [
    "중요한 것은 파이썬의 코루틴들 사이에서 실행을 전환하는 방식이다"
   ]
  },
  {
   "cell_type": "code",
   "execution_count": 3,
   "metadata": {},
   "outputs": [
    {
     "name": "stdout",
     "output_type": "stream",
     "text": [
      "the answer was: 123\n"
     ]
    }
   ],
   "source": [
    "async def f(): # f는 코루틴 함수다.\n",
    "    return 123\n",
    "\n",
    "coro = f() # 코루틴 함수를 호출하면 코루틴 객체가 반환된다.\n",
    "# 정확히는 f를 호출해보 함수 본체는 실행되지 않는다\n",
    "# 함수 본체를 실행하려면 코루틴 객체를 실행해야 한다\n",
    "# 코루틴 객체를 실행하는 방법은 아래와 같다.\n",
    "try:\n",
    "    coro.send(None) # 코루틴 객체에 None을 전달하여 초기화 한다. \n",
    "    # 이 호출은 코루틴을 시작하고 함수 본체가 실행된다\n",
    "    # 코루틴이 시작되면 await 를 만날때까지 코루틴을 실행한다.\n",
    "\n",
    "    # 이벤트 루프는 내부적으로 동일한 방식을 통해 코루틴에 대해 초기화를 진행한다.\n",
    "    # loop.create_task(coro) 혹은 await coro를 통해 실행하면 \n",
    "    # loop가 알아서 .send(None)을 내부적으로 실행한다\n",
    "except StopIteration as e: # 코루틴이 반환하면 StopIteration 예외가 발생한다.\n",
    "    # 코루틴 함수는 123을 즉시 리턴하므로 코루틴은 곧바로 StopIteration 예외를 발생시키며 종료된다\n",
    "    # 예외의 value 속성을 확인해 코루틴의 반환값을 확인할 수 있다\n",
    "    print(f'the answer was: {e.value}')"
   ]
  },
  {
   "cell_type": "code",
   "execution_count": 4,
   "metadata": {},
   "outputs": [
    {
     "ename": "StopIteration",
     "evalue": "123",
     "output_type": "error",
     "traceback": [
      "\u001b[0;31m---------------------------------------------------------------------------\u001b[0m",
      "\u001b[0;31mStopIteration\u001b[0m                             Traceback (most recent call last)",
      "Cell \u001b[0;32mIn[4], line 25\u001b[0m\n\u001b[1;32m     22\u001b[0m     \u001b[38;5;28;01mreturn\u001b[39;00m \u001b[38;5;241m123\u001b[39m\n\u001b[1;32m     24\u001b[0m coro \u001b[38;5;241m=\u001b[39m f()\n\u001b[0;32m---> 25\u001b[0m coro\u001b[38;5;241m.\u001b[39msend(\u001b[38;5;28;01mNone\u001b[39;00m)\n",
      "\u001b[0;31mStopIteration\u001b[0m: 123"
     ]
    }
   ],
   "source": [
    "'''\n",
    "send()와 StopIteration 두 지점이 각각 코루틴 실행의 시작과 끝이다\n",
    "이 내부 동작에 대해 자세히 알 필요는 없다\n",
    "이벤트 루프가 내부동작을 처리해 코루틴의 실행을 제어한다\n",
    "end user 개발자 입장에서는 \n",
    "단순히 루프에서 코루틴이 실행되도록 스케줄링 하면\n",
    "일반적인 함수처럼 탑다운 형태로 실행될 것이다\n",
    "'''\n",
    "async def f():\n",
    "    return 123\n",
    "\n",
    "coro = f()\n",
    "coro.send(None)\n"
   ]
  },
  {
   "cell_type": "markdown",
   "metadata": {},
   "source": [
    "## 3.3.2 await 키워드"
   ]
  },
  {
   "cell_type": "markdown",
   "metadata": {},
   "source": [
    "### await 키워드는 항상 매개변수 하나가 필요하다.  \n",
    "다음 중 하나여야 한다.  \n",
    "- 코루틴(즉 async def 함수의 반환값)  \n",
    "- __await__() 라는 특별 메서드를 구현한 모든 객체, 이 메서드는 반드시 이터레이터를 반환해야 한다  \n",
    "  \n",
    "책에서는 첫번째 경우, 즉 매개변수로 코루틴을 취하는 경우만 다룬다  \n",
    "두번째 경우는 일상적인 asyncio 프로그래밍에서 사용할 일이 거의 없다  "
   ]
  },
  {
   "cell_type": "code",
   "execution_count": null,
   "metadata": {},
   "outputs": [],
   "source": [
    "import asyncio\n",
    "\n",
    "async def f(): # f()를 호출하면 코루틴을 반환한다. 이는 f()에 대해 await 할 수 있다는 뜻이다.\n",
    "    await asyncio.sleep(3)\n",
    "    return 123\n",
    "\n",
    "async def main():\n",
    "    result = await f() # f()가 완료되면 result 변수의 값은 123이 될 것이다.\n",
    "    return result"
   ]
  },
  {
   "cell_type": "markdown",
   "metadata": {},
   "source": [
    "#### 코루틴에 예외를 주입하는 방법 = 가장 일반적인 취소방법\n",
    "task.cancel()을 호출하면, 이벤트 루프는 내부적으로 coro.throw()를 사용해  \n",
    "코루틴 내부에서 asyncio.CancelledError 예외를 발생시킨다"
   ]
  },
  {
   "cell_type": "code",
   "execution_count": 8,
   "metadata": {},
   "outputs": [],
   "source": [
    "import asyncio\n",
    "\n",
    "async def f():\n",
    "    await asyncio.sleep(0)\n",
    "    return 123\n",
    "\n",
    "coro = f()\n",
    "coro.send(None)\n",
    "# await를 만나기 전까지 코루틴이 실행되므로 중단된다."
   ]
  },
  {
   "cell_type": "code",
   "execution_count": 10,
   "metadata": {},
   "outputs": [
    {
     "ename": "StopIteration",
     "evalue": "123",
     "output_type": "error",
     "traceback": [
      "\u001b[0;31m---------------------------------------------------------------------------\u001b[0m",
      "\u001b[0;31mStopIteration\u001b[0m                             Traceback (most recent call last)",
      "Cell \u001b[0;32mIn[10], line 9\u001b[0m\n\u001b[1;32m      7\u001b[0m coro \u001b[38;5;241m=\u001b[39m f()\n\u001b[1;32m      8\u001b[0m coro\u001b[38;5;241m.\u001b[39msend(\u001b[38;5;28;01mNone\u001b[39;00m)\n\u001b[0;32m----> 9\u001b[0m coro\u001b[38;5;241m.\u001b[39msend(\u001b[38;5;28;01mNone\u001b[39;00m)\n",
      "\u001b[0;31mStopIteration\u001b[0m: 123"
     ]
    }
   ],
   "source": [
    "import asyncio\n",
    "\n",
    "async def f():\n",
    "    await asyncio.sleep(0)\n",
    "    return 123\n",
    "\n",
    "coro = f()\n",
    "coro.send(None)\n",
    "coro.send(None)  \n",
    "# 실행이 멈춘 코루틴을 다시 재개하면 즉시 123을 반환하고 StopIteration예외를 발생시킨다"
   ]
  },
  {
   "cell_type": "code",
   "execution_count": 9,
   "metadata": {},
   "outputs": [
    {
     "ename": "Exception",
     "evalue": "blah",
     "output_type": "error",
     "traceback": [
      "\u001b[0;31m---------------------------------------------------------------------------\u001b[0m",
      "\u001b[0;31mException\u001b[0m                                 Traceback (most recent call last)",
      "Cell \u001b[0;32mIn[9], line 9\u001b[0m\n\u001b[1;32m      7\u001b[0m coro \u001b[38;5;241m=\u001b[39m f()\n\u001b[1;32m      8\u001b[0m coro\u001b[38;5;241m.\u001b[39msend(\u001b[38;5;28;01mNone\u001b[39;00m)\n\u001b[0;32m----> 9\u001b[0m coro\u001b[38;5;241m.\u001b[39mthrow(\u001b[38;5;167;01mException\u001b[39;00m, \u001b[38;5;124m'\u001b[39m\u001b[38;5;124mblah\u001b[39m\u001b[38;5;124m'\u001b[39m)\n",
      "Cell \u001b[0;32mIn[9], line 4\u001b[0m, in \u001b[0;36mf\u001b[0;34m()\u001b[0m\n\u001b[1;32m      3\u001b[0m \u001b[38;5;28;01masync\u001b[39;00m \u001b[38;5;28;01mdef\u001b[39;00m \u001b[38;5;21mf\u001b[39m():\n\u001b[0;32m----> 4\u001b[0m     \u001b[38;5;28;01mawait\u001b[39;00m asyncio\u001b[38;5;241m.\u001b[39msleep(\u001b[38;5;241m0\u001b[39m)\n\u001b[1;32m      5\u001b[0m     \u001b[38;5;28;01mreturn\u001b[39;00m \u001b[38;5;241m123\u001b[39m\n",
      "File \u001b[0;32m~/anaconda3/envs/holdem/lib/python3.11/asyncio/tasks.py:640\u001b[0m, in \u001b[0;36msleep\u001b[0;34m(delay, result)\u001b[0m\n\u001b[1;32m    638\u001b[0m \u001b[38;5;250m\u001b[39m\u001b[38;5;124;03m\"\"\"Coroutine that completes after a given time (in seconds).\"\"\"\u001b[39;00m\n\u001b[1;32m    639\u001b[0m \u001b[38;5;28;01mif\u001b[39;00m delay \u001b[38;5;241m<\u001b[39m\u001b[38;5;241m=\u001b[39m \u001b[38;5;241m0\u001b[39m:\n\u001b[0;32m--> 640\u001b[0m     \u001b[38;5;28;01mawait\u001b[39;00m __sleep0()\n\u001b[1;32m    641\u001b[0m     \u001b[38;5;28;01mreturn\u001b[39;00m result\n\u001b[1;32m    643\u001b[0m loop \u001b[38;5;241m=\u001b[39m events\u001b[38;5;241m.\u001b[39mget_running_loop()\n",
      "File \u001b[0;32m~/anaconda3/envs/holdem/lib/python3.11/asyncio/tasks.py:634\u001b[0m, in \u001b[0;36m__sleep0\u001b[0;34m()\u001b[0m\n\u001b[1;32m    625\u001b[0m \u001b[38;5;129m@types\u001b[39m\u001b[38;5;241m.\u001b[39mcoroutine\n\u001b[1;32m    626\u001b[0m \u001b[38;5;28;01mdef\u001b[39;00m \u001b[38;5;21m__sleep0\u001b[39m():\n\u001b[1;32m    627\u001b[0m \u001b[38;5;250m    \u001b[39m\u001b[38;5;124;03m\"\"\"Skip one event loop run cycle.\u001b[39;00m\n\u001b[1;32m    628\u001b[0m \n\u001b[1;32m    629\u001b[0m \u001b[38;5;124;03m    This is a private helper for 'asyncio.sleep()', used\u001b[39;00m\n\u001b[0;32m   (...)\u001b[0m\n\u001b[1;32m    632\u001b[0m \u001b[38;5;124;03m    instead of creating a Future object.\u001b[39;00m\n\u001b[1;32m    633\u001b[0m \u001b[38;5;124;03m    \"\"\"\u001b[39;00m\n\u001b[0;32m--> 634\u001b[0m     \u001b[38;5;28;01myield\u001b[39;00m\n",
      "\u001b[0;31mException\u001b[0m: blah"
     ]
    }
   ],
   "source": [
    "import asyncio\n",
    "\n",
    "async def f():\n",
    "    await asyncio.sleep(0)\n",
    "    return 123\n",
    "\n",
    "coro = f()\n",
    "coro.send(None)\n",
    "coro.throw(Exception, 'blah') # 또 다른 send를 호출하지 않고\n",
    "# throw()를 호출하여 예외 클래스와 값을 전달하면 \n",
    "# 이를 통해 await 지점에서 코루틴 내에 예외를 발생시킨다"
   ]
  },
  {
   "cell_type": "code",
   "execution_count": 11,
   "metadata": {},
   "outputs": [
    {
     "name": "stdout",
     "output_type": "stream",
     "text": [
      "cancelled\n"
     ]
    },
    {
     "ename": "StopIteration",
     "evalue": "",
     "output_type": "error",
     "traceback": [
      "\u001b[0;31m---------------------------------------------------------------------------\u001b[0m",
      "\u001b[0;31mStopIteration\u001b[0m                             Traceback (most recent call last)",
      "Cell \u001b[0;32mIn[11], line 15\u001b[0m\n\u001b[1;32m     13\u001b[0m coro\u001b[38;5;241m.\u001b[39msend(\u001b[38;5;28;01mNone\u001b[39;00m)\n\u001b[1;32m     14\u001b[0m coro\u001b[38;5;241m.\u001b[39msend(\u001b[38;5;28;01mNone\u001b[39;00m)\n\u001b[0;32m---> 15\u001b[0m coro\u001b[38;5;241m.\u001b[39mthrow(asyncio\u001b[38;5;241m.\u001b[39mCancelledError)\n",
      "\u001b[0;31mStopIteration\u001b[0m: "
     ]
    }
   ],
   "source": [
    "import asyncio\n",
    "\n",
    "async def f():\n",
    "    try:\n",
    "        while True: await asyncio.sleep(0)\n",
    "    except asyncio.CancelledError: # asyncio 라이브러리에서는 태스크 취소를 위해\n",
    "        # 특정 예외 형을 사용한다. 그것이 asyncio.CancelledError 다.\n",
    "        print('cancelled')\n",
    "    \n",
    "coro = f()\n",
    "coro.send(None)\n",
    "coro.send(None)\n",
    "coro.throw(asyncio.CancelledError) # 코루틴 외부에서 코루틴에 예외를 주입한다는 점에 유의하자.\n",
    "# 즉 이벤트 루프에 의해 send()와 throw()를 직접 실행한다.\n",
    "# StopIteration 예외가 코루틴이 종료하는 일반적인 방법이므로 태스크 취소시 코루틴은 종료된다\n"
   ]
  },
  {
   "cell_type": "code",
   "execution_count": 9,
   "metadata": {},
   "outputs": [
    {
     "ename": "RuntimeError",
     "evalue": "This event loop is already running",
     "output_type": "error",
     "traceback": [
      "\u001b[0;31m---------------------------------------------------------------------------\u001b[0m",
      "\u001b[0;31mRuntimeError\u001b[0m                              Traceback (most recent call last)",
      "Cell \u001b[0;32mIn[9], line 9\u001b[0m\n\u001b[1;32m      7\u001b[0m loop \u001b[38;5;241m=\u001b[39m asyncio\u001b[38;5;241m.\u001b[39mget_running_loop()  \n\u001b[1;32m      8\u001b[0m coro \u001b[38;5;241m=\u001b[39m f()\n\u001b[0;32m----> 9\u001b[0m result \u001b[38;5;241m=\u001b[39m loop\u001b[38;5;241m.\u001b[39mrun_until_complete(coro)\n\u001b[1;32m     10\u001b[0m \u001b[38;5;28mprint\u001b[39m(result)\n",
      "File \u001b[0;32m~/anaconda3/envs/holdem/lib/python3.11/asyncio/base_events.py:629\u001b[0m, in \u001b[0;36mBaseEventLoop.run_until_complete\u001b[0;34m(self, future)\u001b[0m\n\u001b[1;32m    618\u001b[0m \u001b[38;5;250m\u001b[39m\u001b[38;5;124;03m\"\"\"Run until the Future is done.\u001b[39;00m\n\u001b[1;32m    619\u001b[0m \n\u001b[1;32m    620\u001b[0m \u001b[38;5;124;03mIf the argument is a coroutine, it is wrapped in a Task.\u001b[39;00m\n\u001b[0;32m   (...)\u001b[0m\n\u001b[1;32m    626\u001b[0m \u001b[38;5;124;03mReturn the Future's result, or raise its exception.\u001b[39;00m\n\u001b[1;32m    627\u001b[0m \u001b[38;5;124;03m\"\"\"\u001b[39;00m\n\u001b[1;32m    628\u001b[0m \u001b[38;5;28mself\u001b[39m\u001b[38;5;241m.\u001b[39m_check_closed()\n\u001b[0;32m--> 629\u001b[0m \u001b[38;5;28mself\u001b[39m\u001b[38;5;241m.\u001b[39m_check_running()\n\u001b[1;32m    631\u001b[0m new_task \u001b[38;5;241m=\u001b[39m \u001b[38;5;129;01mnot\u001b[39;00m futures\u001b[38;5;241m.\u001b[39misfuture(future)\n\u001b[1;32m    632\u001b[0m future \u001b[38;5;241m=\u001b[39m tasks\u001b[38;5;241m.\u001b[39mensure_future(future, loop\u001b[38;5;241m=\u001b[39m\u001b[38;5;28mself\u001b[39m)\n",
      "File \u001b[0;32m~/anaconda3/envs/holdem/lib/python3.11/asyncio/base_events.py:588\u001b[0m, in \u001b[0;36mBaseEventLoop._check_running\u001b[0;34m(self)\u001b[0m\n\u001b[1;32m    586\u001b[0m \u001b[38;5;28;01mdef\u001b[39;00m \u001b[38;5;21m_check_running\u001b[39m(\u001b[38;5;28mself\u001b[39m):\n\u001b[1;32m    587\u001b[0m     \u001b[38;5;28;01mif\u001b[39;00m \u001b[38;5;28mself\u001b[39m\u001b[38;5;241m.\u001b[39mis_running():\n\u001b[0;32m--> 588\u001b[0m         \u001b[38;5;28;01mraise\u001b[39;00m \u001b[38;5;167;01mRuntimeError\u001b[39;00m(\u001b[38;5;124m'\u001b[39m\u001b[38;5;124mThis event loop is already running\u001b[39m\u001b[38;5;124m'\u001b[39m)\n\u001b[1;32m    589\u001b[0m     \u001b[38;5;28;01mif\u001b[39;00m events\u001b[38;5;241m.\u001b[39m_get_running_loop() \u001b[38;5;129;01mis\u001b[39;00m \u001b[38;5;129;01mnot\u001b[39;00m \u001b[38;5;28;01mNone\u001b[39;00m:\n\u001b[1;32m    590\u001b[0m         \u001b[38;5;28;01mraise\u001b[39;00m \u001b[38;5;167;01mRuntimeError\u001b[39;00m(\n\u001b[1;32m    591\u001b[0m             \u001b[38;5;124m'\u001b[39m\u001b[38;5;124mCannot run the event loop while another loop is running\u001b[39m\u001b[38;5;124m'\u001b[39m)\n",
      "\u001b[0;31mRuntimeError\u001b[0m: This event loop is already running"
     ]
    }
   ],
   "source": [
    "import asyncio\n",
    "\n",
    "async def f():\n",
    "    await asyncio.sleep(0)\n",
    "    return 123\n",
    "\n",
    "loop = asyncio.get_running_loop()  \n",
    "coro = f()\n",
    "loop.run_until_complete(coro)\n"
   ]
  },
  {
   "cell_type": "markdown",
   "metadata": {},
   "source": [
    "## 3.4 이벤트 루프"
   ]
  },
  {
   "cell_type": "markdown",
   "metadata": {},
   "source": [
    "지금까지 코루틴의 비동기 처리에 대해 확인해보았다.  \n",
    "실제 asyncio 의 이벤트 루프는 코루틴 간 전환, StopIteration 예외처리, 소켓과 파일 디스크립터의 이벤트 수신 승도 처리하므로 다소 차이가 있다.  \n",
    "  \n",
    "이벤트 루프를 직접 다루지 않아도 await와 asyncio.run(coro) 만으로도 asyncio를 사용할 수 있다.  \n",
    "하지만 경우에 따라 이벤트 루프를 다뤄야 하는 경우가 있다.  \n",
    "  \n",
    "이벤트 루프를 얻는 두가지 방법  \n",
    "  \n",
    "추천 : asyncio.get_running_loop() 코루틴 내에서 호출 가능  \n",
    "비추천 : asyncio.get_event_loop() 어디서든 호출 가능  "
   ]
  },
  {
   "cell_type": "code",
   "execution_count": 11,
   "metadata": {},
   "outputs": [
    {
     "data": {
      "text/plain": [
       "True"
      ]
     },
     "execution_count": 11,
     "metadata": {},
     "output_type": "execute_result"
    }
   ],
   "source": [
    "loop = asyncio.get_event_loop()\n",
    "loop2 = asyncio.get_event_loop()\n",
    "loop is loop2 # loop와 loop2는 동일한 인스턴스를 참조한다\n",
    "\n",
    "# 코루틴 함수 내에서 루프 인스턴스에 접근하기 위해서는\n",
    "# get_event_loop() 또는 get_running_loop()를 호출하면된다"
   ]
  },
  {
   "cell_type": "code",
   "execution_count": 12,
   "metadata": {},
   "outputs": [
    {
     "data": {
      "text/plain": [
       "True"
      ]
     },
     "execution_count": 12,
     "metadata": {},
     "output_type": "execute_result"
    }
   ],
   "source": [
    "loop = asyncio.get_running_loop()\n",
    "loop2 = asyncio.get_running_loop()\n",
    "loop is loop2"
   ]
  },
  {
   "cell_type": "code",
   "execution_count": 13,
   "metadata": {},
   "outputs": [
    {
     "data": {
      "text/plain": [
       "True"
      ]
     },
     "execution_count": 13,
     "metadata": {},
     "output_type": "execute_result"
    }
   ],
   "source": [
    "loop = asyncio.get_event_loop()\n",
    "loop2 = asyncio.get_running_loop()\n",
    "loop is loop2"
   ]
  },
  {
   "cell_type": "markdown",
   "metadata": {},
   "source": [
    "### get_running_loop() 와 get_event_loop() 의 차이\n",
    "get_event_loop() 메서드는 동일한 스레드 내에서만 동작하는 목적으로 만들어졌다.\n"
   ]
  },
  {
   "cell_type": "markdown",
   "metadata": {},
   "source": [
    "## 3.5 Task와 Future"
   ]
  },
  {
   "cell_type": "markdown",
   "metadata": {},
   "source": [
    "Future 클래스는 Task의 상위 클래스로 루프와 관련된 모든 기능을 제공한다  \n",
    "  \n",
    "Future는 어떤 동작의 미래에 일어날 완료상태를 나타내고 루프에 의해 관리된다  \n",
    "Task는 Future와 완전히 동일한 기능에 더하여, 동작을 async def로 정의한 함수와  \n",
    "create_task() 함수를 통해 생성한 코루틴으로 지정한다  \n",
    "  \n",
    "end user 개발자는 Task를 사용하는 편이 더 일반적이다.  \n",
    "Future를 사용해야 하는 경우는 익스큐터를 사용할 때다.  \n",
    "익스큐터를 사용할 떄는 Task가 아닌 Future인스턴스를 반환받는다  "
   ]
  },
  {
   "cell_type": "code",
   "execution_count": 1,
   "metadata": {},
   "outputs": [
    {
     "name": "stdout",
     "output_type": "stream",
     "text": [
      "False\n"
     ]
    }
   ],
   "source": [
    "import asyncio\n",
    "\n",
    "async def main(f: asyncio.Future):\n",
    "    await asyncio.sleep(1)\n",
    "    f.set_result((\"I Have finished\"))\n",
    "\n",
    "loop = asyncio.get_event_loop()\n",
    "\n",
    "future = asyncio.Future() # 이 인스턴스는 기본적으로 loop에 연결되지만\n",
    "# 어떠한 코루틴에도 연결되지 않았고 연결되지도 않는다\n",
    "print(future.done()) # future인스턴스에는 done이라는 메서드가 있어 상태를 확인할 수 있다"
   ]
  },
  {
   "cell_type": "code",
   "execution_count": 2,
   "metadata": {},
   "outputs": [
    {
     "ename": "RuntimeError",
     "evalue": "This event loop is already running",
     "output_type": "error",
     "traceback": [
      "\u001b[0;31m---------------------------------------------------------------------------\u001b[0m",
      "\u001b[0;31mRuntimeError\u001b[0m                              Traceback (most recent call last)",
      "Cell \u001b[0;32mIn[2], line 2\u001b[0m\n\u001b[1;32m      1\u001b[0m loop\u001b[38;5;241m.\u001b[39mcreate_task(main(future))\n\u001b[0;32m----> 2\u001b[0m loop\u001b[38;5;241m.\u001b[39mrun_until_complete(future)\n\u001b[1;32m      3\u001b[0m \u001b[38;5;28mprint\u001b[39m(future\u001b[38;5;241m.\u001b[39mdone)\n\u001b[1;32m      4\u001b[0m \u001b[38;5;28mprint\u001b[39m(future\u001b[38;5;241m.\u001b[39mresult())\n",
      "File \u001b[0;32m~/anaconda3/envs/holdem/lib/python3.11/asyncio/base_events.py:629\u001b[0m, in \u001b[0;36mBaseEventLoop.run_until_complete\u001b[0;34m(self, future)\u001b[0m\n\u001b[1;32m    618\u001b[0m \u001b[38;5;250m\u001b[39m\u001b[38;5;124;03m\"\"\"Run until the Future is done.\u001b[39;00m\n\u001b[1;32m    619\u001b[0m \n\u001b[1;32m    620\u001b[0m \u001b[38;5;124;03mIf the argument is a coroutine, it is wrapped in a Task.\u001b[39;00m\n\u001b[0;32m   (...)\u001b[0m\n\u001b[1;32m    626\u001b[0m \u001b[38;5;124;03mReturn the Future's result, or raise its exception.\u001b[39;00m\n\u001b[1;32m    627\u001b[0m \u001b[38;5;124;03m\"\"\"\u001b[39;00m\n\u001b[1;32m    628\u001b[0m \u001b[38;5;28mself\u001b[39m\u001b[38;5;241m.\u001b[39m_check_closed()\n\u001b[0;32m--> 629\u001b[0m \u001b[38;5;28mself\u001b[39m\u001b[38;5;241m.\u001b[39m_check_running()\n\u001b[1;32m    631\u001b[0m new_task \u001b[38;5;241m=\u001b[39m \u001b[38;5;129;01mnot\u001b[39;00m futures\u001b[38;5;241m.\u001b[39misfuture(future)\n\u001b[1;32m    632\u001b[0m future \u001b[38;5;241m=\u001b[39m tasks\u001b[38;5;241m.\u001b[39mensure_future(future, loop\u001b[38;5;241m=\u001b[39m\u001b[38;5;28mself\u001b[39m)\n",
      "File \u001b[0;32m~/anaconda3/envs/holdem/lib/python3.11/asyncio/base_events.py:588\u001b[0m, in \u001b[0;36mBaseEventLoop._check_running\u001b[0;34m(self)\u001b[0m\n\u001b[1;32m    586\u001b[0m \u001b[38;5;28;01mdef\u001b[39;00m \u001b[38;5;21m_check_running\u001b[39m(\u001b[38;5;28mself\u001b[39m):\n\u001b[1;32m    587\u001b[0m     \u001b[38;5;28;01mif\u001b[39;00m \u001b[38;5;28mself\u001b[39m\u001b[38;5;241m.\u001b[39mis_running():\n\u001b[0;32m--> 588\u001b[0m         \u001b[38;5;28;01mraise\u001b[39;00m \u001b[38;5;167;01mRuntimeError\u001b[39;00m(\u001b[38;5;124m'\u001b[39m\u001b[38;5;124mThis event loop is already running\u001b[39m\u001b[38;5;124m'\u001b[39m)\n\u001b[1;32m    589\u001b[0m     \u001b[38;5;28;01mif\u001b[39;00m events\u001b[38;5;241m.\u001b[39m_get_running_loop() \u001b[38;5;129;01mis\u001b[39;00m \u001b[38;5;129;01mnot\u001b[39;00m \u001b[38;5;28;01mNone\u001b[39;00m:\n\u001b[1;32m    590\u001b[0m         \u001b[38;5;28;01mraise\u001b[39;00m \u001b[38;5;167;01mRuntimeError\u001b[39;00m(\n\u001b[1;32m    591\u001b[0m             \u001b[38;5;124m'\u001b[39m\u001b[38;5;124mCannot run the event loop while another loop is running\u001b[39m\u001b[38;5;124m'\u001b[39m)\n",
      "\u001b[0;31mRuntimeError\u001b[0m: This event loop is already running"
     ]
    }
   ],
   "source": [
    "loop.create_task(main(future)) # main() 코루틴을 스케쥴링한다. \n",
    "# 동시에 future 인스턴스르 매개변수로 전달한다\n",
    "# main 코루틴이 하는 일은 잠깐 자고 일어나서 futue 인스턴스의 상태를 변경하는 것이다\n",
    "loop.run_until_complete(future) # task 인스턴스가 아닌 future 인스턴스에 대해 run_until_complete를 사용한다\n",
    "print(future.done())\n",
    "print(future.result())"
   ]
  },
  {
   "cell_type": "markdown",
   "metadata": {},
   "source": [
    "첫 번째 코드:\n",
    "```python\n",
    "import asyncio\n",
    "\n",
    "async def main(f: asyncio.Future):\n",
    "    await asyncio.sleep(1)\n",
    "    f.set_result((\"I Have finished\"))\n",
    "\n",
    "loop = asyncio.get_event_loop()\n",
    "future = asyncio.Future() \n",
    "fut = loop.create_task(main(future)) \n",
    "loop.run_until_complete(fut) \n",
    "print(future.done())\n",
    "print(future.result())\n",
    "```\n",
    "\n",
    "두 번째 코드:\n",
    "```python\n",
    "import asyncio\n",
    "\n",
    "async def main(f: asyncio.Future):\n",
    "    await asyncio.sleep(1)\n",
    "    f.set_result((\"I Have finished\"))\n",
    "\n",
    "loop = asyncio.get_event_loop()\n",
    "future = asyncio.Future() \n",
    "loop.create_task(main(future)) \n",
    "loop.run_until_complete(future) \n",
    "print(future.done())\n",
    "print(future.result())\n",
    "```\n",
    "\n",
    "\n",
    "    두 코드의 차이점:\n",
    "    1. 첫 번째 코드에서는 `loop.run_until_complete(fut)`를 호출합니다. \n",
    "    여기서 `fut`는 `loop.create_task(main(future))`로 생성된 Task 객체입니다.\n",
    "\n",
    "    2. 두 번째 코드에서는 `loop.run_until_complete(future)`를 호출합니다.\n",
    "    여기서 `future`는 직접 생성된 `asyncio.Future` 객체입니다.\n",
    "\n",
    "    이 차이점은 코드의 실행 방식에 영향을 미칩니다. 자세히 설명하겠습니다:\n",
    "\n",
    "    - 첫 번째 코드에서 `loop.run_until_complete(fut)`를 호출하면, \n",
    "    `fut`가 완료될 때까지 이벤트 루프가 실행됩니다. \n",
    "    `fut`는 `main` 코루틴의 Task 객체이므로 `main`이 끝날 때까지 대기하게 됩니다. \n",
    "    `main`이 끝나면 `future`의 결과가 설정됩니다.\n",
    "\n",
    "    - 두 번째 코드에서 `loop.run_until_complete(future)`를 호출하면, \n",
    "    `future`가 완료될 때까지 이벤트 루프가 실행됩니다. \n",
    "    `main` 코루틴이 `future`의 결과를 설정하기 때문에, \n",
    "    사실상 두 코드 모두 `main` 코루틴의 완료를 기다리게 됩니다.\n",
    "\n",
    "    따라서, 결과적으로 두 코드 모두 같은 동작을 합니다. \n",
    "    하지만 첫 번째 코드에서 명시적으로 `fut`를 `run_until_complete`에 전달하는 것이 더 직관적입니다.\n",
    "    Task 객체 `fut`가 완료될 때까지 대기한다는 의도를 명확히 전달하기 때문입니다."
   ]
  },
  {
   "cell_type": "markdown",
   "metadata": {},
   "source": [
    "## 3.6 async with"
   ]
  },
  {
   "cell_type": "markdown",
   "metadata": {},
   "source": [
    "#### 컨텍스트 관리자 (Context Manager)가 뭐지?\n",
    "컨테스트 관리자는 리소스를 할당하고 해제하는 과정을 단순화하는 데 사용되는 파이썬의 객체입니다.   \n",
    "  \n",
    "주로 파일, 네트워크 연결, 락, 데이터베이스 연결 등의 리소스를 다룰 때 유용합니다.   \n",
    "  \n",
    "with 문과 함께 사용되어, 특정 블록의 실행 전후에 설정과 정리를 자동으로 처리합니다.  \n",
    "\n",
    "#### 컨텍스트 관리자 (Context Manager)가 왜 필요하지?\n",
    "\n",
    "리소스 관리:  \n",
    "\n",
    "    리소스를 열고 닫는 과정을 자동화하여 코드의 안정성과 가독성을 높입니다.  \n",
    "  \n",
    "예외 처리:  \n",
    "\n",
    "    예외가 발생하더라도 리소스를 적절하게 해제할 수 있습니다.  \n",
    "  \n",
    "사용 방법: \n",
    "\n",
    "    파일 처리: 파일을 열고 자동으로 닫는 데 사용됩니다.  \n",
    "```python\n",
    "# 파일 처리 예제\n",
    "with open('file.txt', 'r') as file:\n",
    "    data = file.read()\n",
    "# 이 블록이 끝나면 파일이 자동으로 닫힘\n",
    "```\n",
    "    락: 멀티스레딩 환경에서 락을 자동으로 획득하고 해제하는 데 사용됩니다.  \n",
    "    \n",
    "    데이터베이스 연결: 연결을 열고 닫는 과정을 자동화합니다.  "
   ]
  },
  {
   "cell_type": "markdown",
   "metadata": {},
   "source": [
    "#### 컨텍스트 관리자를 썼을 때와 안썼을 때의 차이\n",
    "\n",
    "컨텍스트 관리자를 사용하지 않은 경우    \n",
    "\n",
    "    컨텍스트 관리자를 사용하지 않으면 파일을 열고 닫는 작업을 명시적으로 수행해야 합니다.  \n",
    "    만약 예외가 발생하면 파일이 제대로 닫히지 않을 수 있습니다.  \n",
    "\n",
    "```python\n",
    "def read_file(file_path):\n",
    "    file = open(file_path, 'r')  # 파일 열기\n",
    "    try:\n",
    "        data = file.read()  # 파일 읽기\n",
    "        return data\n",
    "    finally:\n",
    "        file.close()  # 파일 닫기\n",
    "\n",
    "try:\n",
    "    content = read_file('example.txt')\n",
    "    print(content)\n",
    "except Exception as e:\n",
    "    print(f\"Error: {e}\")\n",
    "# 이 코드에서는 파일을 열고 닫는 작업을 수동으로 관리해야 합니다. \n",
    "#  예외가 발생하더라도 finally 블록에서 파일을 닫도록 해야 합니다.\n",
    "```\n",
    "\n",
    "컨텍스트 관리자를 사용한 경우  \n",
    "\n",
    "    컨텍스트 관리자를 사용하면 with 문이 파일을 자동으로 닫아주기 때문에 코드가 간결하고 안전합니다.\n",
    "\n",
    "```python\n",
    "def read_file(file_path):\n",
    "    with open(file_path, 'r') as file:  # 파일 열기 및 자동 닫기\n",
    "        data = file.read()  # 파일 읽기\n",
    "        return data\n",
    "\n",
    "try:\n",
    "    content = read_file('example.txt')\n",
    "    print(content)\n",
    "except Exception as e:\n",
    "    print(f\"Error: {e}\")\n",
    "\n",
    "\n",
    "```\n"
   ]
  },
  {
   "cell_type": "markdown",
   "metadata": {},
   "source": [
    "#### 블로킹 방식\n",
    "이 컨텍스트 관리자는 전용스레드에서 사용해야 한다.  \n",
    "그렇지 않으면 이 함수가 끝날 때까지 전체 프로그렘이 일시 중지될 것이다   "
   ]
  },
  {
   "cell_type": "code",
   "execution_count": null,
   "metadata": {},
   "outputs": [],
   "source": [
    "from contextlib import contextmanager\n",
    "\n",
    "@contextmanager # 데커레이터는 제너레이터 함수를 동기 컨텍스트 관리자로 변환한다\n",
    "def web_page(url):\n",
    "    data = download_webpage(url) #  download_webpage 함수는 내부적으로 블로킹 I/O가 있다고 하자\n",
    "    yield data \n",
    "    update_stats(url) # update_stats 함수도 내부적으로 블로킹 I/O가 있다고 하자\n",
    "\n",
    "with web_page('google.com') as data:\n",
    "    process(data) # process 함수는 빠르고 CPU bound의 논블로킹 함수로 가정한다"
   ]
  },
  {
   "cell_type": "markdown",
   "metadata": {},
   "source": [
    "#### 논블로킹 방식\n",
    "비동기 방식으로 블로킹을 피할 수 있다"
   ]
  },
  {
   "cell_type": "code",
   "execution_count": null,
   "metadata": {},
   "outputs": [],
   "source": [
    "from contextlib import asynccontextmanager\n",
    "\n",
    "@asynccontextmanager\n",
    "async def web_page(url): # web_page 함수는 비동기 제너레이터 함수가 된다.\n",
    "    # 이 함수를 호출하면 비동기 제너레이터를 반환한다\n",
    "    data = await download_webpage(url) #  download_webpage 함수는 코루틴을 반환한다고 가정하자\n",
    "    yield data \n",
    "    await update_stats(url) # update_stats 함수는 코루틴을 반환한다고 가정하다\n",
    "\n",
    "async with web_page('google.com') as data:\n",
    "    process(data) # process 함수는 빠르고 CPU bound의 논블로킹 함수로 가정한다"
   ]
  },
  {
   "cell_type": "markdown",
   "metadata": {},
   "source": [
    "위 예제에서 2개의 블로킹 함수인 download_wabpage()와 update_stats()를  \n",
    "비동기함수로 수정할 수 없다고 하자.  \n",
    "즉 코루틴을 반환하도록 수정할 수 없다는 것이다.  \n",
    "이 문제를 해결하는 방법은 별도의 스레드에서 익스큐터로 블로킹 호출을 하는 것이었다"
   ]
  },
  {
   "cell_type": "code",
   "execution_count": null,
   "metadata": {},
   "outputs": [],
   "source": [
    "# 기존 동기 함수를 비동기 코드와 함께 사용할 수 있다.\n",
    "from contextlib import asynccontextmanager\n",
    "\n",
    "@asynccontextmanager\n",
    "async def web_page(url):\n",
    "    loop = asyncio.get_event_loop()\n",
    "    data = await loop.run_in_executor(None, download_webpage, url)\n",
    "    yield data\n",
    "    await loop.run_in_executor(None, update_stats, url)\n",
    "\n",
    "async with web_page('google.com') as data:\n",
    "    process(data)"
   ]
  },
  {
   "cell_type": "markdown",
   "metadata": {},
   "source": [
    "## 3.7 async for\n",
    "비동기 이터레이터"
   ]
  },
  {
   "cell_type": "code",
   "execution_count": 5,
   "metadata": {},
   "outputs": [
    {
     "name": "stdout",
     "output_type": "stream",
     "text": [
      "1\n",
      "2\n",
      "3\n"
     ]
    }
   ],
   "source": [
    "# 비동기가 아닌 전통적인 이터레이터\n",
    "class A:\n",
    "    def __iter__(self): \n",
    "        self.x = 0\n",
    "        return self \n",
    "    def __next__(self): # 이 __next__ 메서드를 aysnc def 코루틴 함수로 만들어\n",
    "        # await 를 걸 수 있게 한 방식이 async for가 동작하는 방식이다.\n",
    "        if self.x > 2:\n",
    "            raise StopIteration\n",
    "        else:\n",
    "            self.x += 1\n",
    "            return self.x\n",
    "\n",
    "for i in A():\n",
    "    print(i)"
   ]
  },
  {
   "cell_type": "markdown",
   "metadata": {},
   "source": [
    "#### 예제\n",
    "redis 데이터베이스에서 여러 개의 키에 대해 반복을 수행해 데이터를 확인할 때  \n",
    "각 데이터를 요청 시점에 가져오려 한다고 하자  "
   ]
  },
  {
   "cell_type": "code",
   "execution_count": 6,
   "metadata": {},
   "outputs": [
    {
     "ename": "ModuleNotFoundError",
     "evalue": "No module named 'aioredis'",
     "output_type": "error",
     "traceback": [
      "\u001b[0;31m---------------------------------------------------------------------------\u001b[0m",
      "\u001b[0;31mModuleNotFoundError\u001b[0m                       Traceback (most recent call last)",
      "Cell \u001b[0;32mIn[6], line 2\u001b[0m\n\u001b[1;32m      1\u001b[0m \u001b[38;5;28;01mimport\u001b[39;00m \u001b[38;5;21;01masyncio\u001b[39;00m\n\u001b[0;32m----> 2\u001b[0m \u001b[38;5;28;01mfrom\u001b[39;00m \u001b[38;5;21;01maioredis\u001b[39;00m \u001b[38;5;28;01mimport\u001b[39;00m create_redis \n\u001b[1;32m      3\u001b[0m \u001b[38;5;66;03m# 레디스 DB와 연결하기 위해 aioredis 라이브러리의 고수준 인터페이스를 사용한다\u001b[39;00m\n\u001b[1;32m      5\u001b[0m \u001b[38;5;28;01masync\u001b[39;00m \u001b[38;5;28;01mdef\u001b[39;00m \u001b[38;5;21mmain\u001b[39m():\n",
      "\u001b[0;31mModuleNotFoundError\u001b[0m: No module named 'aioredis'"
     ]
    }
   ],
   "source": [
    "import asyncio\n",
    "from aioredis import create_redis \n",
    "# 레디스 DB와 연결하기 위해 aioredis 라이브러리의 고수준 인터페이스를 사용한다\n",
    "\n",
    "async def main():\n",
    "    redis = await create_redis(('localhost', 6379))\n",
    "    # aioredis 라이브러리를 사용하여 Redis 서버에 비동기적으로 연결합니다. \n",
    "    # Redis 서버는 로컬 호스트의 6379 포트에서 실행 중이라고 가정합니다.\n",
    "    keys = ['Asia', 'Africa', 'Americas', 'Europe'] \n",
    "    # 키에 연관된 값의 개수가 대량이고 모두 레디스에 저장돼있다고 가정하자\n",
    "\n",
    "    async for value in OneAtATime(redis, keys):\n",
    "        # async for를 사용하면, 반복 중에 반복 자체를 일시정지 할 수 있다\n",
    "        await do_something_with(value)\n",
    "        # 레디스에서 얻은 데이터에 대해 데이터를 변환해 다른 돗에 전달하는 I/O 위주 동작을 수행한다고 가정하자\n",
    "\n",
    "class OneAtATime:\n",
    "    def __init__(self, redis, keys):\n",
    "        self.redis = redis\n",
    "        self.keys = keys\n",
    "    def __aiter__(self): # async for를 사용하려면 _iter__를 구현해야 한다\n",
    "        self.ikeys = iter(self.keys) # self.keys의 이터레이터인 ikeys를 만들고 \n",
    "        return self # self를 반환하여 이터레이터 자체를 반환\n",
    "    # 이로 인해 async for 문은 OneAtATime 객체를 비동기 이터레이터로 인식합니다.\n",
    "    async def __anext__(self): # # __aiter__() 메서드는 def지만\n",
    "        # __anext__ 메서드는 async def로 선언한다\n",
    "        # 비동기 이터레이터의 다음 값을 반환하기 위해 정의된 메서드\n",
    "        # async for 문이 각 반복을 시작할 때마다 __anext__ 메서드가 호출됩니다.\n",
    "        try:\n",
    "            k = next(self.ikeys)\n",
    "        except StopIteration: # self.ikeys를 소모해 StopIteration예외가 발생하면 \n",
    "            # StopAsyncIteration 로 전환한다. 이것이 비동기 이터레이터 내에서\n",
    "            # 정지신호를 발생시키는 방법이다\n",
    "            raise StopAsyncIteration\n",
    "    \n",
    "        value = await self.redis.get(k) # 데이터를 가져오는 작업이 완료될때까지 await하여\n",
    "        # 이벤트 루프에서 다른 동작이 수행되도록 할 수 있다.\n",
    "        return value\n",
    "\n",
    "asyncio.run(main())"
   ]
  },
  {
   "cell_type": "markdown",
   "metadata": {},
   "source": [
    "위 코드를 비동기 제너레이터로 더 간단히 만들 수 있다"
   ]
  },
  {
   "cell_type": "code",
   "execution_count": null,
   "metadata": {},
   "outputs": [],
   "source": [
    "import asyncio\n",
    "from aioredis import create_redis \n",
    "# 레디스 DB와 연결하기 위해 aioredis 라이브러리의 고수준 인터페이스를 사용한다\n",
    "\n",
    "async def main():\n",
    "    redis = await create_redis(('localhost', 6379))\n",
    "    # aioredis 라이브러리를 사용하여 Redis 서버에 비동기적으로 연결합니다. \n",
    "    # Redis 서버는 로컬 호스트의 6379 포트에서 실행 중이라고 가정합니다.\n",
    "    keys = ['Asia', 'Africa', 'Americas', 'Europe'] \n",
    "    # 키에 연관된 값의 개수가 대량이고 모두 레디스에 저장돼있다고 가정하자\n",
    "\n",
    "    async for value in one_at_a_time(redis, keys):\n",
    "        # async for를 사용하면, 반복 중에 반복 자체를 일시정지 할 수 있다\n",
    "        await do_something_with(value)\n",
    "        # 레디스에서 얻은 데이터에 대해 데이터를 변환해 다른 돗에 전달하는 I/O 위주 동작을 수행한다고 가정하자\n",
    "\n",
    "async def one_at_a_time(redis, keys):\n",
    "    for k in keys:\n",
    "        value = redis.get(k)\n",
    "        yield value\n",
    "\n",
    "asyncio.run(main())"
   ]
  },
  {
   "cell_type": "markdown",
   "metadata": {},
   "source": [
    "## 3.9 비동기 컴프리헨션"
   ]
  },
  {
   "cell_type": "code",
   "execution_count": 7,
   "metadata": {},
   "outputs": [
    {
     "ename": "RuntimeError",
     "evalue": "asyncio.run() cannot be called from a running event loop",
     "output_type": "error",
     "traceback": [
      "\u001b[0;31m---------------------------------------------------------------------------\u001b[0m",
      "\u001b[0;31mRuntimeError\u001b[0m                              Traceback (most recent call last)",
      "Cell \u001b[0;32mIn[7], line 16\u001b[0m\n\u001b[1;32m     13\u001b[0m     results \u001b[38;5;241m=\u001b[39m [\u001b[38;5;28;01mawait\u001b[39;00m f(x) \u001b[38;5;28;01masync\u001b[39;00m \u001b[38;5;28;01mfor\u001b[39;00m f, x \u001b[38;5;129;01min\u001b[39;00m factory(\u001b[38;5;241m3\u001b[39m)]\n\u001b[1;32m     14\u001b[0m     \u001b[38;5;28mprint\u001b[39m(\u001b[38;5;124m'\u001b[39m\u001b[38;5;124mresults = \u001b[39m\u001b[38;5;124m'\u001b[39m, results)\n\u001b[0;32m---> 16\u001b[0m asyncio\u001b[38;5;241m.\u001b[39mrun(main())\n",
      "File \u001b[0;32m~/anaconda3/envs/holdem/lib/python3.11/asyncio/runners.py:186\u001b[0m, in \u001b[0;36mrun\u001b[0;34m(main, debug)\u001b[0m\n\u001b[1;32m    161\u001b[0m \u001b[38;5;250m\u001b[39m\u001b[38;5;124;03m\"\"\"Execute the coroutine and return the result.\u001b[39;00m\n\u001b[1;32m    162\u001b[0m \n\u001b[1;32m    163\u001b[0m \u001b[38;5;124;03mThis function runs the passed coroutine, taking care of\u001b[39;00m\n\u001b[0;32m   (...)\u001b[0m\n\u001b[1;32m    182\u001b[0m \u001b[38;5;124;03m    asyncio.run(main())\u001b[39;00m\n\u001b[1;32m    183\u001b[0m \u001b[38;5;124;03m\"\"\"\u001b[39;00m\n\u001b[1;32m    184\u001b[0m \u001b[38;5;28;01mif\u001b[39;00m events\u001b[38;5;241m.\u001b[39m_get_running_loop() \u001b[38;5;129;01mis\u001b[39;00m \u001b[38;5;129;01mnot\u001b[39;00m \u001b[38;5;28;01mNone\u001b[39;00m:\n\u001b[1;32m    185\u001b[0m     \u001b[38;5;66;03m# fail fast with short traceback\u001b[39;00m\n\u001b[0;32m--> 186\u001b[0m     \u001b[38;5;28;01mraise\u001b[39;00m \u001b[38;5;167;01mRuntimeError\u001b[39;00m(\n\u001b[1;32m    187\u001b[0m         \u001b[38;5;124m\"\u001b[39m\u001b[38;5;124masyncio.run() cannot be called from a running event loop\u001b[39m\u001b[38;5;124m\"\u001b[39m)\n\u001b[1;32m    189\u001b[0m \u001b[38;5;28;01mwith\u001b[39;00m Runner(debug\u001b[38;5;241m=\u001b[39mdebug) \u001b[38;5;28;01mas\u001b[39;00m runner:\n\u001b[1;32m    190\u001b[0m     \u001b[38;5;28;01mreturn\u001b[39;00m runner\u001b[38;5;241m.\u001b[39mrun(main)\n",
      "\u001b[0;31mRuntimeError\u001b[0m: asyncio.run() cannot be called from a running event loop"
     ]
    }
   ],
   "source": [
    "import asyncio\n",
    "\n",
    "async def f(x):\n",
    "    await asyncio.sleep(0.1)\n",
    "    return x + 100\n",
    "\n",
    "async def factory(n):\n",
    "    for x in range(n):\n",
    "        await asyncio.sleep(0.1)\n",
    "        yield f, x\n",
    "\n",
    "async def main():\n",
    "    results = [await f(x) async for f, x in factory(3)]\n",
    "    print('results = ', results)\n",
    "\n",
    "asyncio.run(main())"
   ]
  },
  {
   "cell_type": "markdown",
   "metadata": {},
   "source": [
    "## 3.10 시작과 종료"
   ]
  },
  {
   "cell_type": "markdown",
   "metadata": {},
   "source": [
    "대부분의 비동기 기반 프로그램은 수명이 긴 네트워크 기반 애플리케이션이다  \n",
    "이런 종류의 프로그램은 올바르게 시작 start up 하고 종료 shutdown 하려면 상당히 복잡한 처리가 필요하다  \n",
    "\n",
    "asyncio 애플리케이션을 시작하는 일반적인 방법은  \n",
    "main() 코루틴 함수를 정의하고  \n",
    "asyncio.run()으로 실행하는 것이다.  \n",
    "  \n",
    "\n",
    "async def main() 함수 종료시 asyncio.run() 내에서 실행되는 동작은 다음과 같다  \n",
    "\n",
    "    1. 아직 보류중인 태스크 객체를 모두 수집한다\n",
    "    2. 이 태스크들을 모두 취소한다\n",
    "    취소하면 각각의 실행 중인 코루틴 내에서 CancelledError가 발생하는데\n",
    "    코루틴 함수의 본문에서 try/except로 처리할지 말지 선택할수 있다\n",
    "    3. 태스크 모두를 그룹 태스크로 수집한다\n",
    "    4. 그룹 태스크에 대해 run_until_complete()를 사용해 모든 태스크가 완료되기까지 대기한다\n",
    "    종료되기까지 대기한다는 의미는 대기중인 태스크에 발생한 CancelledError 예외가 처리되기까지 대기한다는 의미다"
   ]
  },
  {
   "cell_type": "code",
   "execution_count": null,
   "metadata": {},
   "outputs": [],
   "source": [
    "# Example B-1. Cutlery management using asyncio\n",
    "import sys\n",
    "import asyncio\n",
    "from attr import attrs, attrib\n",
    "\n",
    "\n",
    "# Instead of a ThreadBot, we now have a CoroBot. \n",
    "# This code sample uses only one thread, \n",
    "# and that thread will be managing all 10 separate CoroBot object instances\n",
    "# one for each table in the restaurant.\n",
    "class CoroBot():\n",
    "    def __init__(self):\n",
    "        self.cutlery = Cutlery(knives=0, forks=0)\n",
    "        # Instead of queue.Queue, we’re using the asyncio -enabled queue.\n",
    "        self.tasks = asyncio.Queue()\n",
    "\n",
    "    async def manage_table(self):\n",
    "        while True:\n",
    "            task = await self.tasks.get() # 여기가 중요한 부분이다\n",
    "            # 서로 다른 CoroBot 인스턴스 간에 컨텍스트 전환을 할 수 있는 유일한 위치는\n",
    "            # 바로 await 키워드가 있는 곳이다.\n",
    "            # 이 함수의 나머지 부분에서는 컨텍스트 전환이 일어날 수 없다\n",
    "            # 이로 인해 주방 식기 재고를 수정할 때 Race Condition이 발생하지 않는다\n",
    "            # await 키워드가 있는 곳에서만 컨텍스트 전환이 일어나므로 관측가능하다\n",
    "            # 이를 통해 병행 애플리케이션에서 경합조건의 가능성을 훨씬 쉽게 유추할 수 있다\n",
    "            if task == 'prepare table':\n",
    "                kitchen.give(to=self.cutlery, knives=4, forks=4)\n",
    "            elif task == 'clear table':\n",
    "                self.cutlery.give(to=kitchen, knives=4, forks=4)\n",
    "            elif task == 'shutdown':\n",
    "                return\n",
    "\n",
    "\n",
    "@attrs\n",
    "class Cutlery:\n",
    "    knives = attrib(default=0)\n",
    "    forks = attrib(default=0)\n",
    "\n",
    "    def give(self, to: 'Cutlery', knives=0, forks=0):\n",
    "        self.change(-knives, -forks)\n",
    "        to.change(knives, forks)\n",
    "\n",
    "    def change(self, knives, forks):\n",
    "        self.knives += knives\n",
    "        self.forks += forks\n",
    "\n",
    "\n",
    "kitchen = Cutlery(knives=100, forks=100)\n",
    "bots = [CoroBot() for i in range(10)]\n",
    "\n",
    "for b in bots:\n",
    "    for i in range(int(sys.argv[1])):\n",
    "        b.tasks.put_nowait('prepare table')\n",
    "        b.tasks.put_nowait('clear table')\n",
    "    b.tasks.put_nowait('shutdown')\n",
    "print('Kitchen inventory before service:', kitchen)\n",
    "\n",
    "loop = asyncio.get_event_loop()\n",
    "tasks = []\n",
    "for b in bots:\n",
    "    t = loop.create_task(b.manage_table())\n",
    "    tasks.append(t)\n",
    "\n",
    "task_group = asyncio.gather(*tasks)\n",
    "loop.run_until_complete(task_group)\n",
    "print('Kitchen inventory after service:', kitchen)\n",
    "\n",
    "# 터미널 실행 코드\n",
    "# python cutlery_test_coroboy.py 100000"
   ]
  }
 ],
 "metadata": {
  "kernelspec": {
   "display_name": "tf",
   "language": "python",
   "name": "python3"
  },
  "language_info": {
   "codemirror_mode": {
    "name": "ipython",
    "version": 3
   },
   "file_extension": ".py",
   "mimetype": "text/x-python",
   "name": "python",
   "nbconvert_exporter": "python",
   "pygments_lexer": "ipython3",
   "version": "3.11.7"
  }
 },
 "nbformat": 4,
 "nbformat_minor": 2
}
