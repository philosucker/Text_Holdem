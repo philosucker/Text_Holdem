{
 "cells": [
  {
   "cell_type": "markdown",
   "id": "e14fe03c-04fc-45f6-8693-6a9dffb8c78d",
   "metadata": {
    "tags": []
   },
   "source": [
    "### Distinct Hands\n",
    "Distinct hands is the number of different ways to draw the hand, not counting different suits.   \n",
    "무늬를 고려하지 않고 만드는 방법  \n",
    "  \n",
    "In particular, a set of hands that all tie each other is counted exactly once, not multiply.  \n",
    "즉 무늬를 따졌을 때 tie 인 중복 핸드들을 제외한 개수  \n",
    "  \n",
    "### Frequency\n",
    "Frequency is the number of ways to draw the hand, including the same card values in different suits.  \n",
    "중복을 포함한, 즉 서로 다른 무늬를 고려해 만드는 방법의 빈도  \n",
    "\n",
    "### Probability\n",
    "The Probability of drawing a given hand is calculated  \n",
    "by dividing the number of ways of drawing the hand (Frequency) by the total number of 5-card hands or 7-card hands"
   ]
  },
  {
   "cell_type": "code",
   "execution_count": 33,
   "id": "2fca3602-f6dd-404b-9e26-b4655d96a762",
   "metadata": {
    "tags": []
   },
   "outputs": [],
   "source": [
    "import math\n",
    "\n",
    "# hand / distinct hands / freq in 5 (freq in 7)\n",
    "# total / 7462 / 2598960 (133784560)\n",
    "\n",
    "five_cards_total = math.comb(52,5)\n",
    "seven_cards_total = math.comb(52,7)"
   ]
  },
  {
   "cell_type": "code",
   "execution_count": 31,
   "id": "20bfe4dc-97c8-46ec-9e31-b19f972c89b5",
   "metadata": {
    "tags": []
   },
   "outputs": [
    {
     "name": "stdout",
     "output_type": "stream",
     "text": [
      "4\n",
      "4324\n",
      "prob of royal_flush_freq_5 : 0.00015%\n",
      "prob of royal_flush_freq_7 : 0.0032%\n"
     ]
    }
   ],
   "source": [
    "# hand / distinct hands / freq in 5 (freq in 7)\n",
    "\n",
    "# royal flush  / 1 / 4 (4324)\n",
    "royal_flush_freq_5 = math.comb(4,1)\n",
    "\n",
    "royal_flush_freq_7 = math.comb(4,1) * math.comb(47, 2)\n",
    "\n",
    "print(royal_flush_freq_5)\n",
    "print(royal_flush_freq_7)\n",
    "print(f'prob of royal_flush_freq_5 : {round((royal_flush_freq_5 / five_cards_total) * 100, 5)}%')\n",
    "print(f'prob of royal_flush_freq_7 : {round((royal_flush_freq_7 / seven_cards_total) * 100, 4)}%')"
   ]
  },
  {
   "cell_type": "code",
   "execution_count": 34,
   "id": "5ca0aab4-1ec9-4a60-94f1-6dbef16ef15b",
   "metadata": {
    "tags": []
   },
   "outputs": [
    {
     "name": "stdout",
     "output_type": "stream",
     "text": [
      "36\n",
      "37260\n",
      "prob of straight_flush_freq_5 : 0.0014%\n",
      "prob of straight_flush_freq_7 : 0.028%\n"
     ]
    }
   ],
   "source": [
    "# hand / distinct hands / freq in 5 (freq in 7)\n",
    "\n",
    "# straight flush(excluding royal flush) / 9 / 36 (37260)\n",
    "straight_flush_freq_5 = math.comb(10,1) * math.comb(4,1) - math.comb(4,1)\n",
    "\n",
    "straight_flush_freq_7 =math.comb(9,1) * math.comb(4,1) * math.comb(46,2)\n",
    "\n",
    "print(straight_flush_freq_5)\n",
    "print(straight_flush_freq_7)\n",
    "print(f'prob of straight_flush_freq_5 : {round((straight_flush_freq_5 / five_cards_total) * 100, 4)}%')\n",
    "print(f'prob of straight_flush_freq_7 : {round((straight_flush_freq_7 / seven_cards_total) * 100, 3)}%')"
   ]
  },
  {
   "cell_type": "code",
   "execution_count": 37,
   "id": "3f33d0ca-0af2-42eb-8d8d-218035a5f1e9",
   "metadata": {
    "tags": []
   },
   "outputs": [
    {
     "name": "stdout",
     "output_type": "stream",
     "text": [
      "624\n",
      "224848\n",
      "prob of quads__freq_5 : 0.024%\n",
      "prob of quads__freq_7 : 0.17%\n"
     ]
    }
   ],
   "source": [
    "# hand / distinct hands / freq in 5 (freq in 7)\n",
    "\n",
    "# four of a kind / 156 / 624 (224848)\n",
    "quads_freq_5 = math.comb(13,1) * math.comb(4,4) * math.comb(12,1) * math.comb(4,1) \n",
    "\n",
    "quads_freq_7 = math.comb(13,1) * math.comb(48,3)\n",
    "\n",
    "print(quads_freq_5)\n",
    "print(quads_freq_7)\n",
    "print(f'prob of quads_freq_5 : {round((quads_freq_5 / five_cards_total) * 100, 4)}%')\n",
    "print(f'prob of quads_freq_7 : {round((quads_freq_7 / seven_cards_total) * 100, 2)}%')"
   ]
  },
  {
   "cell_type": "code",
   "execution_count": 45,
   "id": "dc0c5f36-c663-4929-9f60-01c38ce7dbf8",
   "metadata": {
    "tags": []
   },
   "outputs": [
    {
     "name": "stdout",
     "output_type": "stream",
     "text": [
      "3744\n",
      "3473184\n",
      "prob of full_house_freq_5 : 0.14%\n",
      "prob of full_house__freq_7 : 2.6%\n"
     ]
    }
   ],
   "source": [
    "# hand / distinct hands / freq in 5 (freq in 7)\n",
    "\n",
    "# full house 156 / 3744 (3473184)\n",
    "full_house_freq_5 = math.comb(13,1) * math.comb(4,3) * math.comb(12,1) * math.comb(4,2) \n",
    "\n",
    "full_house_freq_7 = (\n",
    "    math.comb(13,2) * math.comb(4,3)**2 * math.comb(44,1)) + (\n",
    "    math.comb(13,1) * math.comb(12,2) * math.comb(4,3) * math.comb(4,2)**2) + (\n",
    "    math.comb(13,1) * math.comb(12,1) * math.comb(11,2) * math.comb(4,3) * math.comb(4,2) * math.comb(4,1)**2)\n",
    "\n",
    "print(full_house_freq_5)\n",
    "print(full_house_freq_7)\n",
    "print(f'prob of full_house_freq_5 : {round((full_house_freq_5 / five_cards_total) * 100, 2)}%')\n",
    "print(f'prob of full_house__freq_7 : {round((full_house_freq_7 / seven_cards_total) * 100, 2)}%')"
   ]
  },
  {
   "cell_type": "code",
   "execution_count": 47,
   "id": "94aad728-0deb-4783-9311-c16606167c27",
   "metadata": {
    "tags": []
   },
   "outputs": [
    {
     "name": "stdout",
     "output_type": "stream",
     "text": [
      "5108\n",
      "4047644\n",
      "prob of flush_freq_5 : 0.197%\n",
      "prob of flush__freq_7 : 3.03%\n"
     ]
    }
   ],
   "source": [
    "# hand / distinct hands / freq in 5 (freq in 7)\n",
    "\n",
    "# flush(excluding royal flush and straight flush) / 1277/ 5108 (4047644)\n",
    "flush_freq_5 = math.comb(13,5) * math.comb(4,1) - math.comb(10,1) * math.comb(4,1)\n",
    "\n",
    "flush_freq_7 = (\n",
    "    math.comb(4,1) * (math.comb(13,7) - 217)) + (\n",
    "    math.comb(4,1) * ((math.comb(13,6) - 71) * 39)) + (\n",
    "    math.comb(4,1) * (math.comb(13,5) - 10) * math.comb(39,2))\n",
    "\n",
    "print(flush_freq_5)\n",
    "print(flush_freq_7)\n",
    "print(f'prob of flush_freq_5 : {round((flush_freq_5 / five_cards_total) * 100, 3)}%')\n",
    "print(f'prob of flush__freq_7 : {round((flush_freq_7 / seven_cards_total) * 100, 2)}%')"
   ]
  },
  {
   "cell_type": "code",
   "execution_count": 48,
   "id": "2bfbfa1d-41a8-4526-8ee1-331afda9577d",
   "metadata": {
    "tags": []
   },
   "outputs": [
    {
     "name": "stdout",
     "output_type": "stream",
     "text": [
      "10200\n",
      "6180020\n",
      "prob of straight_freq_5 : 0.392%\n",
      "prob of straight__freq_7 : 4.62%\n"
     ]
    }
   ],
   "source": [
    "# hand / distinct hands / freq in 5 (freq in 7)\n",
    "\n",
    "# straight(excluding royal flush and straight flush) 10 / 10200 (6180020)\n",
    "straight_freq_5 = math.comb(10,1) * math.comb(4,1)**5 - math.comb(10,1) *math.comb(4,1)\n",
    "\n",
    "straight_freq_7 = (\n",
    "    217 * (4**7 - 756 - 4 - 84)) + (\n",
    "    71 * 36 * 990) + (\n",
    "    10 * 5 * 4 * (256-3) + 10 * math.comb(5,2) * 2268)\n",
    "\n",
    "print(straight_freq_5)\n",
    "print(straight_freq_7)\n",
    "print(f'prob of straight_freq_5 : {round((straight_freq_5 / five_cards_total) * 100, 3)}%')\n",
    "print(f'prob of straight__freq_7 : {round((straight_freq_7 / seven_cards_total) * 100, 2)}%')"
   ]
  },
  {
   "cell_type": "code",
   "execution_count": 50,
   "id": "66ebeee9-dd33-4922-8b53-9a21d742949a",
   "metadata": {
    "tags": []
   },
   "outputs": [
    {
     "name": "stdout",
     "output_type": "stream",
     "text": [
      "54912\n",
      "6461620\n",
      "prob of set_freq_5 : 2.11%\n",
      "prob of set__freq_7 : 4.83%\n"
     ]
    }
   ],
   "source": [
    "# hand / distinct hands / freq in 5 (freq in 7)\n",
    "\n",
    "# three of a kind / 858 / 54912 (6461620)\n",
    "set_freq_5 = math.comb(13,1) * math.comb(4,3) * math.comb(12,2) * math.comb(4,1)**2\n",
    "\n",
    "set_freq_7 = (math.comb(13,5)-10) * math.comb(5,1) * math.comb(4,1) * (math.comb(4,1)**4 -3)\n",
    "\n",
    "print(set_freq_5)\n",
    "print(set_freq_7)\n",
    "print(f'prob of set_freq_5 : {round((set_freq_5 / five_cards_total) * 100, 2)}%')\n",
    "print(f'prob of set_freq_7 : {round((set_freq_7 / seven_cards_total) * 100, 2)}%')"
   ]
  },
  {
   "cell_type": "code",
   "execution_count": 53,
   "id": "8eb20cb9-6b66-408b-9f9a-0c1fdf15a9af",
   "metadata": {
    "tags": []
   },
   "outputs": [
    {
     "name": "stdout",
     "output_type": "stream",
     "text": [
      "123552\n",
      "31433400\n",
      "prob of set_freq_5 : 4.75%\n",
      "prob of set__freq_7 : 23.5%\n"
     ]
    }
   ],
   "source": [
    "# hand / distinct hands / freq in 5 (freq in 7)\n",
    "\n",
    "# two pair / 858 / 123552 (31433400)\n",
    "two_pair_freq_5 = math.comb(13,2) * math.comb(4,2)**2 * math.comb(11,1) * math.comb(4,1)\n",
    "\n",
    "two_pair_freq_7 = (1277 * 10 * (6*62 + 24*63 + 6*64)) + (math.comb(13,3) * math.comb(4,2)**3 * math.comb(40,1))\n",
    "\n",
    "print(two_pair_freq_5)\n",
    "print(two_pair_freq_7)\n",
    "print(f'prob of two_pair_freq_5 : {round((two_pair_freq_5 / five_cards_total) * 100, 2)}%')\n",
    "print(f'prob of two_pair__freq_7 : {round((two_pair_freq_7 / seven_cards_total) * 100, 2)}%')"
   ]
  },
  {
   "cell_type": "code",
   "execution_count": 54,
   "id": "417a3546-837d-43aa-96f4-886fde0bb612",
   "metadata": {
    "tags": []
   },
   "outputs": [
    {
     "name": "stdout",
     "output_type": "stream",
     "text": [
      "1098240\n",
      "58627800\n",
      "prob of one_pair_freq_5 : 42.26%\n",
      "prob of one_pair_freq_7 : 43.82%\n"
     ]
    }
   ],
   "source": [
    "# hand / distinct hands / freq in 5 (freq in 7)\n",
    "\n",
    "# one pair / 2860 / 1098240 (58627800)\n",
    "one_pair_freq_5 = math.comb(13,1) * math.comb(4,2) * math.comb(12,3) * math.comb(4,1) **3\n",
    "\n",
    "one_pair_freq_7 = (math.comb(13,6) - 71) * 6 * 6 * 990\n",
    "\n",
    "print(one_pair_freq_5)\n",
    "print(one_pair_freq_7)\n",
    "print(f'prob of one_pair_freq_5 : {round((one_pair_freq_5 / five_cards_total) * 100, 2)}%')\n",
    "print(f'prob of one_pair_freq_7 : {round((one_pair_freq_7 / seven_cards_total) * 100, 2)}%') "
   ]
  },
  {
   "cell_type": "code",
   "execution_count": 55,
   "id": "879249ce-7f8a-4894-b63d-36d8e39e75be",
   "metadata": {
    "tags": []
   },
   "outputs": [
    {
     "name": "stdout",
     "output_type": "stream",
     "text": [
      "1302540\n",
      "23294460\n",
      "prob of one_pair_freq_5 : 50.12%\n",
      "prob of one_pair_freq_7 : 17.41%\n"
     ]
    }
   ],
   "source": [
    "# hand / distinct hands / freq in 5 (freq in 7)\n",
    "\n",
    "# high card / 1277 / 1302540 (23294460)\n",
    "high_card_freq_5 = (math.comb(13,5) - math.comb(10,1)) * (math.comb(4,1)**5 - math.comb(4,1))\n",
    "\n",
    "high_card_freq_7 = 1499 * (4**7 - 756 - 4 - 84)\n",
    "\n",
    "print(high_card_freq_5)\n",
    "print(high_card_freq_7)\n",
    "print(f'prob of one_pair_freq_5 : {round((high_card_freq_5 / five_cards_total) * 100, 2)}%')\n",
    "print(f'prob of one_pair_freq_7 : {round((high_card_freq_7 / seven_cards_total) * 100, 2)}%') "
   ]
  }
 ],
 "metadata": {
  "kernelspec": {
   "display_name": "tf",
   "language": "python",
   "name": "python3"
  },
  "language_info": {
   "codemirror_mode": {
    "name": "ipython",
    "version": 3
   },
   "file_extension": ".py",
   "mimetype": "text/x-python",
   "name": "python",
   "nbconvert_exporter": "python",
   "pygments_lexer": "ipython3",
   "version": "3.11.0"
  }
 },
 "nbformat": 4,
 "nbformat_minor": 5
}
